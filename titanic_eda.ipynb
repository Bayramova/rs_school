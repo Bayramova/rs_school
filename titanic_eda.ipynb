{
 "cells": [
  {
   "cell_type": "code",
   "execution_count": 2,
   "id": "b489cb9e",
   "metadata": {},
   "outputs": [],
   "source": [
    "import numpy as np\n",
    "import pandas as pd\n",
    "import matplotlib.pyplot as plt\n",
    "import missingno as msno\n",
    "%matplotlib inline\n",
    "import seaborn as sns\n",
    "\n",
    "sns.set_style('darkgrid')"
   ]
  },
  {
   "cell_type": "markdown",
   "id": "d07912a0",
   "metadata": {},
   "source": [
    "# Context"
   ]
  },
  {
   "cell_type": "code",
   "execution_count": 2,
   "id": "cbf65d68",
   "metadata": {
    "tags": [
     "hide-input",
     "remove_cell"
    ]
   },
   "outputs": [
    {
     "data": {
      "text/html": [
       "<style>\n",
       "  table {margin-left: 0 !important}\n",
       "</style>\n"
      ],
      "text/plain": [
       "<IPython.core.display.HTML object>"
      ]
     },
     "metadata": {},
     "output_type": "display_data"
    }
   ],
   "source": [
    "%%html\n",
    "<style>\n",
    "  table {margin-left: 0 !important}\n",
    "</style>"
   ]
  },
  {
   "cell_type": "markdown",
   "id": "f2ec76ee",
   "metadata": {},
   "source": [
    "**Problem**: explore what sorts of people were more likely to survive the Titanic shipwreck using passenger data.  \n",
    "**Dataset**: train.csv from https://www.kaggle.com/c/tabular-playground-series-apr-2021/data\n",
    "\n",
    "The dataset provides following information about a passenger:  \n",
    "\n",
    "| Variable | Definition                                 |  Key                                           |\n",
    "| :------- | :----------------------------------------- | :--------------------------------------------- |\n",
    "| Survived | Target variable                            | 0 = No, 1 = Yes                                |\n",
    "| Pclass   | Ticket class                               | 1 = 1st, 2 = 2nd, 3 = 3rd                      |\n",
    "| Sex      | Sex                                        |                                                |\n",
    "| Age      | Age in years                               |                                                |\n",
    "| SibSp    | # of siblings / spouses aboard the Titanic |                                                |\n",
    "| Parch    | # of parents / children aboard the Titanic |                                                |\n",
    "| Ticket   | Ticket number                              |                                                |\n",
    "| Fare     | Passenger Fare                             |                                                |\n",
    "| Cabin    | Cabin number                               |                                                |\n",
    "| Embarked | Port of Embarkation                        | C = Cherbourg, Q = Queenstown, S = Southampton |     \n",
    "\n",
    "\n",
    "**Variable Notes:**    \n",
    "Pclass: a proxy for socio-economic status (SES):  \n",
    "1st = Upper  \n",
    "2nd = Middle  \n",
    "3rd = Lower\n",
    "\n",
    "Age: age is fractional if less than 1. If the age is estimated, is it in the form of xx.5\n",
    "\n",
    "SibSp: the dataset defines family relations in this way:    \n",
    "Sibling = brother, sister, stepbrother, stepsister  \n",
    "Spouse = husband, wife (mistresses and fiancés were ignored)\n",
    "\n",
    "Parch: the dataset defines family relations in this way:  \n",
    "Parent = mother, father  \n",
    "Child = daughter, son, stepdaughter, stepson  \n",
    "Some children travelled only with a nanny, therefore parch=0 for them."
   ]
  },
  {
   "cell_type": "markdown",
   "id": "eb2cd2c8",
   "metadata": {},
   "source": [
    "### Initial hypotheses/investigation themes to explore\n",
    "- \"women and children first\" rule\n",
    "- age effect on surviving. In particular, children and women aged 20 to 35 (child-bearing age)\n",
    "- SES effect on surviving. Did the first- and second-class passengers have any advantages? \n",
    "- Check correlation between Pclass and Fare (does higher SES imply more expensive tickets?), Pclass and Port of Emabrkation (different classes - different ports?)"
   ]
  },
  {
   "cell_type": "markdown",
   "id": "9b4320c6",
   "metadata": {},
   "source": [
    "# Data quality assessment"
   ]
  },
  {
   "cell_type": "code",
   "execution_count": 3,
   "id": "e443ca82",
   "metadata": {},
   "outputs": [
    {
     "data": {
      "text/html": [
       "<div>\n",
       "<style scoped>\n",
       "    .dataframe tbody tr th:only-of-type {\n",
       "        vertical-align: middle;\n",
       "    }\n",
       "\n",
       "    .dataframe tbody tr th {\n",
       "        vertical-align: top;\n",
       "    }\n",
       "\n",
       "    .dataframe thead th {\n",
       "        text-align: right;\n",
       "    }\n",
       "</style>\n",
       "<table border=\"1\" class=\"dataframe\">\n",
       "  <thead>\n",
       "    <tr style=\"text-align: right;\">\n",
       "      <th></th>\n",
       "      <th>Survived</th>\n",
       "      <th>Pclass</th>\n",
       "      <th>Name</th>\n",
       "      <th>Sex</th>\n",
       "      <th>Age</th>\n",
       "      <th>SibSp</th>\n",
       "      <th>Parch</th>\n",
       "      <th>Ticket</th>\n",
       "      <th>Fare</th>\n",
       "      <th>Cabin</th>\n",
       "      <th>Embarked</th>\n",
       "    </tr>\n",
       "    <tr>\n",
       "      <th>PassengerId</th>\n",
       "      <th></th>\n",
       "      <th></th>\n",
       "      <th></th>\n",
       "      <th></th>\n",
       "      <th></th>\n",
       "      <th></th>\n",
       "      <th></th>\n",
       "      <th></th>\n",
       "      <th></th>\n",
       "      <th></th>\n",
       "      <th></th>\n",
       "    </tr>\n",
       "  </thead>\n",
       "  <tbody>\n",
       "    <tr>\n",
       "      <th>0</th>\n",
       "      <td>1</td>\n",
       "      <td>1</td>\n",
       "      <td>Oconnor, Frankie</td>\n",
       "      <td>male</td>\n",
       "      <td>NaN</td>\n",
       "      <td>2</td>\n",
       "      <td>0</td>\n",
       "      <td>209245</td>\n",
       "      <td>27.14</td>\n",
       "      <td>C12239</td>\n",
       "      <td>S</td>\n",
       "    </tr>\n",
       "    <tr>\n",
       "      <th>1</th>\n",
       "      <td>0</td>\n",
       "      <td>3</td>\n",
       "      <td>Bryan, Drew</td>\n",
       "      <td>male</td>\n",
       "      <td>NaN</td>\n",
       "      <td>0</td>\n",
       "      <td>0</td>\n",
       "      <td>27323</td>\n",
       "      <td>13.35</td>\n",
       "      <td>NaN</td>\n",
       "      <td>S</td>\n",
       "    </tr>\n",
       "    <tr>\n",
       "      <th>2</th>\n",
       "      <td>0</td>\n",
       "      <td>3</td>\n",
       "      <td>Owens, Kenneth</td>\n",
       "      <td>male</td>\n",
       "      <td>0.33</td>\n",
       "      <td>1</td>\n",
       "      <td>2</td>\n",
       "      <td>CA 457703</td>\n",
       "      <td>71.29</td>\n",
       "      <td>NaN</td>\n",
       "      <td>S</td>\n",
       "    </tr>\n",
       "    <tr>\n",
       "      <th>3</th>\n",
       "      <td>0</td>\n",
       "      <td>3</td>\n",
       "      <td>Kramer, James</td>\n",
       "      <td>male</td>\n",
       "      <td>19.00</td>\n",
       "      <td>0</td>\n",
       "      <td>0</td>\n",
       "      <td>A. 10866</td>\n",
       "      <td>13.04</td>\n",
       "      <td>NaN</td>\n",
       "      <td>S</td>\n",
       "    </tr>\n",
       "    <tr>\n",
       "      <th>4</th>\n",
       "      <td>1</td>\n",
       "      <td>3</td>\n",
       "      <td>Bond, Michael</td>\n",
       "      <td>male</td>\n",
       "      <td>25.00</td>\n",
       "      <td>0</td>\n",
       "      <td>0</td>\n",
       "      <td>427635</td>\n",
       "      <td>7.76</td>\n",
       "      <td>NaN</td>\n",
       "      <td>S</td>\n",
       "    </tr>\n",
       "  </tbody>\n",
       "</table>\n",
       "</div>"
      ],
      "text/plain": [
       "             Survived  Pclass              Name   Sex    Age  SibSp  Parch  \\\n",
       "PassengerId                                                                  \n",
       "0                   1       1  Oconnor, Frankie  male    NaN      2      0   \n",
       "1                   0       3       Bryan, Drew  male    NaN      0      0   \n",
       "2                   0       3    Owens, Kenneth  male   0.33      1      2   \n",
       "3                   0       3     Kramer, James  male  19.00      0      0   \n",
       "4                   1       3     Bond, Michael  male  25.00      0      0   \n",
       "\n",
       "                Ticket   Fare   Cabin Embarked  \n",
       "PassengerId                                     \n",
       "0               209245  27.14  C12239        S  \n",
       "1                27323  13.35     NaN        S  \n",
       "2            CA 457703  71.29     NaN        S  \n",
       "3             A. 10866  13.04     NaN        S  \n",
       "4               427635   7.76     NaN        S  "
      ]
     },
     "execution_count": 3,
     "metadata": {},
     "output_type": "execute_result"
    }
   ],
   "source": [
    "data = pd.read_csv('train.csv', header=0, index_col='PassengerId')\n",
    "data.head()"
   ]
  },
  {
   "cell_type": "code",
   "execution_count": 4,
   "id": "342af802",
   "metadata": {},
   "outputs": [
    {
     "data": {
      "text/plain": [
       "(100000, 11)"
      ]
     },
     "execution_count": 4,
     "metadata": {},
     "output_type": "execute_result"
    }
   ],
   "source": [
    "data.shape"
   ]
  },
  {
   "cell_type": "markdown",
   "id": "eef363a3",
   "metadata": {},
   "source": [
    "**Number of observations**: 100000  \n",
    "**Number of variables**: 11 (out of which one (**Survived**) is target variable)"
   ]
  },
  {
   "cell_type": "markdown",
   "id": "acc1bfe3",
   "metadata": {},
   "source": [
    "## Missing data"
   ]
  },
  {
   "cell_type": "code",
   "execution_count": 5,
   "id": "e82b06fc",
   "metadata": {},
   "outputs": [
    {
     "name": "stdout",
     "output_type": "stream",
     "text": [
      "<class 'pandas.core.frame.DataFrame'>\n",
      "Int64Index: 100000 entries, 0 to 99999\n",
      "Data columns (total 11 columns):\n",
      " #   Column    Non-Null Count   Dtype  \n",
      "---  ------    --------------   -----  \n",
      " 0   Survived  100000 non-null  int64  \n",
      " 1   Pclass    100000 non-null  int64  \n",
      " 2   Name      100000 non-null  object \n",
      " 3   Sex       100000 non-null  object \n",
      " 4   Age       96708 non-null   float64\n",
      " 5   SibSp     100000 non-null  int64  \n",
      " 6   Parch     100000 non-null  int64  \n",
      " 7   Ticket    95377 non-null   object \n",
      " 8   Fare      99866 non-null   float64\n",
      " 9   Cabin     32134 non-null   object \n",
      " 10  Embarked  99750 non-null   object \n",
      "dtypes: float64(2), int64(4), object(5)\n",
      "memory usage: 9.2+ MB\n"
     ]
    }
   ],
   "source": [
    "data.info()"
   ]
  },
  {
   "cell_type": "code",
   "execution_count": 6,
   "id": "debee3f3",
   "metadata": {},
   "outputs": [
    {
     "data": {
      "text/html": [
       "<div>\n",
       "<style scoped>\n",
       "    .dataframe tbody tr th:only-of-type {\n",
       "        vertical-align: middle;\n",
       "    }\n",
       "\n",
       "    .dataframe tbody tr th {\n",
       "        vertical-align: top;\n",
       "    }\n",
       "\n",
       "    .dataframe thead th {\n",
       "        text-align: right;\n",
       "    }\n",
       "</style>\n",
       "<table border=\"1\" class=\"dataframe\">\n",
       "  <thead>\n",
       "    <tr style=\"text-align: right;\">\n",
       "      <th></th>\n",
       "      <th>Missing</th>\n",
       "      <th>Missing(%)</th>\n",
       "    </tr>\n",
       "  </thead>\n",
       "  <tbody>\n",
       "    <tr>\n",
       "      <th>Cabin</th>\n",
       "      <td>67866</td>\n",
       "      <td>67.866</td>\n",
       "    </tr>\n",
       "    <tr>\n",
       "      <th>Ticket</th>\n",
       "      <td>4623</td>\n",
       "      <td>4.623</td>\n",
       "    </tr>\n",
       "    <tr>\n",
       "      <th>Age</th>\n",
       "      <td>3292</td>\n",
       "      <td>3.292</td>\n",
       "    </tr>\n",
       "    <tr>\n",
       "      <th>Embarked</th>\n",
       "      <td>250</td>\n",
       "      <td>0.250</td>\n",
       "    </tr>\n",
       "    <tr>\n",
       "      <th>Fare</th>\n",
       "      <td>134</td>\n",
       "      <td>0.134</td>\n",
       "    </tr>\n",
       "    <tr>\n",
       "      <th>Survived</th>\n",
       "      <td>0</td>\n",
       "      <td>0.000</td>\n",
       "    </tr>\n",
       "    <tr>\n",
       "      <th>Pclass</th>\n",
       "      <td>0</td>\n",
       "      <td>0.000</td>\n",
       "    </tr>\n",
       "    <tr>\n",
       "      <th>Name</th>\n",
       "      <td>0</td>\n",
       "      <td>0.000</td>\n",
       "    </tr>\n",
       "    <tr>\n",
       "      <th>Sex</th>\n",
       "      <td>0</td>\n",
       "      <td>0.000</td>\n",
       "    </tr>\n",
       "    <tr>\n",
       "      <th>SibSp</th>\n",
       "      <td>0</td>\n",
       "      <td>0.000</td>\n",
       "    </tr>\n",
       "    <tr>\n",
       "      <th>Parch</th>\n",
       "      <td>0</td>\n",
       "      <td>0.000</td>\n",
       "    </tr>\n",
       "  </tbody>\n",
       "</table>\n",
       "</div>"
      ],
      "text/plain": [
       "          Missing  Missing(%)\n",
       "Cabin       67866      67.866\n",
       "Ticket       4623       4.623\n",
       "Age          3292       3.292\n",
       "Embarked      250       0.250\n",
       "Fare          134       0.134\n",
       "Survived        0       0.000\n",
       "Pclass          0       0.000\n",
       "Name            0       0.000\n",
       "Sex             0       0.000\n",
       "SibSp           0       0.000\n",
       "Parch           0       0.000"
      ]
     },
     "execution_count": 6,
     "metadata": {},
     "output_type": "execute_result"
    }
   ],
   "source": [
    "pd.DataFrame({\n",
    "    'Missing': data.isna().sum(),\n",
    "    'Missing(%)': (data.isna().sum() / data.shape[0]) * 100\n",
    "}).sort_values(by='Missing', ascending=False)"
   ]
  },
  {
   "cell_type": "markdown",
   "id": "477aaec9",
   "metadata": {},
   "source": [
    "Total number of missing values:"
   ]
  },
  {
   "cell_type": "code",
   "execution_count": 7,
   "id": "c51e2813",
   "metadata": {
    "scrolled": true
   },
   "outputs": [
    {
     "name": "stdout",
     "output_type": "stream",
     "text": [
      "Missing cells: 76165\n",
      "Missing cells(%): 6.92%\n"
     ]
    }
   ],
   "source": [
    "print(f'Missing cells: {data.isna().sum().sum()}')\n",
    "print(f'Missing cells(%): {round((data.isna().sum().sum() / (data.shape[0] * data.shape[1])) * 100, 2)}%')"
   ]
  },
  {
   "cell_type": "code",
   "execution_count": 8,
   "id": "6c828e9d",
   "metadata": {
    "scrolled": false
   },
   "outputs": [
    {
     "data": {
      "text/plain": [
       "<AxesSubplot:>"
      ]
     },
     "execution_count": 8,
     "metadata": {},
     "output_type": "execute_result"
    },
    {
     "data": {
      "image/png": "[encoded data removed]",
      "text/plain": [
       "<Figure size 1800x720 with 3 Axes>"
      ]
     },
     "metadata": {},
     "output_type": "display_data"
    }
   ],
   "source": [
    "msno.bar(data)"
   ]
  },
  {
   "cell_type": "code",
   "execution_count": 9,
   "id": "4c02b889",
   "metadata": {},
   "outputs": [
    {
     "data": {
      "text/plain": [
       "<AxesSubplot:>"
      ]
     },
     "execution_count": 9,
     "metadata": {},
     "output_type": "execute_result"
    },
    {
     "data": {
      "image/png": "[encoded data removed]",
      "text/plain": [
       "<Figure size 1440x864 with 2 Axes>"
      ]
     },
     "metadata": {},
     "output_type": "display_data"
    }
   ],
   "source": [
    "msno.heatmap(data)"
   ]
  },
  {
   "cell_type": "markdown",
   "id": "853bb629",
   "metadata": {},
   "source": [
    "There is no correlation between the missing values (there is a slight correlation between the values of Сabin and Ticket, but I guess it's only because there are a lot of missing values in Cabin column itself)."
   ]
  },
  {
   "cell_type": "markdown",
   "id": "ba3e141d",
   "metadata": {},
   "source": [
    "\n",
    "### Questions to consider\n",
    "- Cabin column makes most of the missing values. Is there any specific reason for it? Maybe passengers with cheaper tickets don't have cabins and missing value actually means \"no cabin\"?\n",
    "- Is there any pattern among passengers with missing ticket? Could passengers with missing ticket value belong to the ship crew? If yes, does the crew have a greater/lesser chance of survival?"
   ]
  },
  {
   "cell_type": "markdown",
   "id": "b97f1394",
   "metadata": {},
   "source": [
    "## Duplicate rows"
   ]
  },
  {
   "cell_type": "code",
   "execution_count": 10,
   "id": "d356b353",
   "metadata": {},
   "outputs": [
    {
     "data": {
      "text/plain": [
       "0"
      ]
     },
     "execution_count": 10,
     "metadata": {},
     "output_type": "execute_result"
    }
   ],
   "source": [
    "data.duplicated().sum()"
   ]
  },
  {
   "cell_type": "markdown",
   "id": "e2bf1496",
   "metadata": {},
   "source": [
    "## Variable types"
   ]
  },
  {
   "cell_type": "code",
   "execution_count": 11,
   "id": "3514b8c8",
   "metadata": {
    "scrolled": true
   },
   "outputs": [
    {
     "data": {
      "text/plain": [
       "Survived      int64\n",
       "Pclass        int64\n",
       "Name         object\n",
       "Sex          object\n",
       "Age         float64\n",
       "SibSp         int64\n",
       "Parch         int64\n",
       "Ticket       object\n",
       "Fare        float64\n",
       "Cabin        object\n",
       "Embarked     object\n",
       "dtype: object"
      ]
     },
     "execution_count": 11,
     "metadata": {},
     "output_type": "execute_result"
    }
   ],
   "source": [
    "data.dtypes"
   ]
  },
  {
   "cell_type": "markdown",
   "id": "1a5c50a0",
   "metadata": {},
   "source": [
    "Select numeric columns:"
   ]
  },
  {
   "cell_type": "code",
   "execution_count": 12,
   "id": "04f0e858",
   "metadata": {},
   "outputs": [
    {
     "data": {
      "text/plain": [
       "['Survived', 'Pclass', 'Age', 'SibSp', 'Parch', 'Fare']"
      ]
     },
     "execution_count": 12,
     "metadata": {},
     "output_type": "execute_result"
    }
   ],
   "source": [
    "num_cols = data.select_dtypes(include='number').columns.tolist()\n",
    "num_cols"
   ]
  },
  {
   "cell_type": "markdown",
   "id": "68f19fd8",
   "metadata": {},
   "source": [
    "Select categorical columns:"
   ]
  },
  {
   "cell_type": "code",
   "execution_count": 13,
   "id": "b71e88d6",
   "metadata": {},
   "outputs": [
    {
     "data": {
      "text/plain": [
       "['Name', 'Sex', 'Ticket', 'Cabin', 'Embarked']"
      ]
     },
     "execution_count": 13,
     "metadata": {},
     "output_type": "execute_result"
    }
   ],
   "source": [
    "cat_cols = data.columns.drop(num_cols).tolist()\n",
    "cat_cols"
   ]
  },
  {
   "cell_type": "markdown",
   "id": "ed10d130",
   "metadata": {},
   "source": [
    "**Parch** and **SibSp** take discrete number of values and, thus, can be considered either numerical or categorical.  \n",
    "**Survived** and **Pclass** are numerical but should be categorical based on their values:"
   ]
  },
  {
   "cell_type": "code",
   "execution_count": 14,
   "id": "8e862e3f",
   "metadata": {},
   "outputs": [
    {
     "name": "stdout",
     "output_type": "stream",
     "text": [
      "Number of categorical variables: 7\n",
      "Number of numeric variables: 4\n"
     ]
    }
   ],
   "source": [
    "num_cols.remove('Survived')\n",
    "num_cols.remove('Pclass')\n",
    "cat_cols.append('Survived')\n",
    "cat_cols.append('Pclass')\n",
    "\n",
    "print(f'Number of categorical variables: {len(cat_cols)}')\n",
    "print(f'Number of numeric variables: {len(num_cols)}')"
   ]
  },
  {
   "cell_type": "markdown",
   "id": "b03328d3",
   "metadata": {},
   "source": [
    "### Numeric variables"
   ]
  },
  {
   "cell_type": "code",
   "execution_count": 15,
   "id": "2b4d3872",
   "metadata": {},
   "outputs": [
    {
     "data": {
      "text/plain": [
       "['Age', 'SibSp', 'Parch', 'Fare']"
      ]
     },
     "execution_count": 15,
     "metadata": {},
     "output_type": "execute_result"
    }
   ],
   "source": [
    "num_cols"
   ]
  },
  {
   "cell_type": "markdown",
   "id": "4ef2e6cf",
   "metadata": {},
   "source": [
    "**SibSp** and **Parch** are **discrete** variables. Lets assess number of distinct values, percent of unique, min and max values:"
   ]
  },
  {
   "cell_type": "markdown",
   "id": "2a238e13",
   "metadata": {},
   "source": [
    "**SibSp:**"
   ]
  },
  {
   "cell_type": "code",
   "execution_count": 16,
   "id": "c14f1469",
   "metadata": {},
   "outputs": [
    {
     "data": {
      "text/html": [
       "<div>\n",
       "<style scoped>\n",
       "    .dataframe tbody tr th:only-of-type {\n",
       "        vertical-align: middle;\n",
       "    }\n",
       "\n",
       "    .dataframe tbody tr th {\n",
       "        vertical-align: top;\n",
       "    }\n",
       "\n",
       "    .dataframe thead th {\n",
       "        text-align: right;\n",
       "    }\n",
       "</style>\n",
       "<table border=\"1\" class=\"dataframe\">\n",
       "  <thead>\n",
       "    <tr style=\"text-align: right;\">\n",
       "      <th></th>\n",
       "      <th>count</th>\n",
       "      <th>frequency(%)</th>\n",
       "    </tr>\n",
       "  </thead>\n",
       "  <tbody>\n",
       "    <tr>\n",
       "      <th>0</th>\n",
       "      <td>73308</td>\n",
       "      <td>73.308</td>\n",
       "    </tr>\n",
       "    <tr>\n",
       "      <th>1</th>\n",
       "      <td>19758</td>\n",
       "      <td>19.758</td>\n",
       "    </tr>\n",
       "    <tr>\n",
       "      <th>2</th>\n",
       "      <td>3703</td>\n",
       "      <td>3.703</td>\n",
       "    </tr>\n",
       "    <tr>\n",
       "      <th>3</th>\n",
       "      <td>1635</td>\n",
       "      <td>1.635</td>\n",
       "    </tr>\n",
       "    <tr>\n",
       "      <th>4</th>\n",
       "      <td>1168</td>\n",
       "      <td>1.168</td>\n",
       "    </tr>\n",
       "    <tr>\n",
       "      <th>8</th>\n",
       "      <td>296</td>\n",
       "      <td>0.296</td>\n",
       "    </tr>\n",
       "    <tr>\n",
       "      <th>5</th>\n",
       "      <td>132</td>\n",
       "      <td>0.132</td>\n",
       "    </tr>\n",
       "  </tbody>\n",
       "</table>\n",
       "</div>"
      ],
      "text/plain": [
       "   count  frequency(%)\n",
       "0  73308        73.308\n",
       "1  19758        19.758\n",
       "2   3703         3.703\n",
       "3   1635         1.635\n",
       "4   1168         1.168\n",
       "8    296         0.296\n",
       "5    132         0.132"
      ]
     },
     "execution_count": 16,
     "metadata": {},
     "output_type": "execute_result"
    }
   ],
   "source": [
    "pd.DataFrame({\n",
    "    'count': data['SibSp'].value_counts(),\n",
    "    'frequency(%)': (data['SibSp'].value_counts() / data.shape[0]) * 100\n",
    "})"
   ]
  },
  {
   "cell_type": "code",
   "execution_count": 17,
   "id": "87e63bd9",
   "metadata": {},
   "outputs": [
    {
     "name": "stdout",
     "output_type": "stream",
     "text": [
      "Distinct: 7\n",
      "Distinct(%): 0.01%\n",
      "Minimum: 0\n",
      "Maximum: 8\n"
     ]
    }
   ],
   "source": [
    "print(f'Distinct: {len(data[\"SibSp\"].value_counts())}')\n",
    "print(f'Distinct(%): {round((len(data[\"SibSp\"].value_counts()) / data.shape[0]) * 100, 2)}%')\n",
    "print(f'Minimum: {data[\"SibSp\"].min()}')\n",
    "print(f'Maximum: {data[\"SibSp\"].max()}')"
   ]
  },
  {
   "cell_type": "markdown",
   "id": "84d948b8",
   "metadata": {},
   "source": [
    "Most of passengers traveled without siblings and spouses.  \n",
    "Almost 20% traveled with 1 Sibling/Spouse.\n",
    "Max number of SibSp is 8."
   ]
  },
  {
   "cell_type": "markdown",
   "id": "cc5a38ca",
   "metadata": {},
   "source": [
    "**Parch:**"
   ]
  },
  {
   "cell_type": "code",
   "execution_count": 18,
   "id": "50754bc2",
   "metadata": {},
   "outputs": [
    {
     "data": {
      "text/html": [
       "<div>\n",
       "<style scoped>\n",
       "    .dataframe tbody tr th:only-of-type {\n",
       "        vertical-align: middle;\n",
       "    }\n",
       "\n",
       "    .dataframe tbody tr th {\n",
       "        vertical-align: top;\n",
       "    }\n",
       "\n",
       "    .dataframe thead th {\n",
       "        text-align: right;\n",
       "    }\n",
       "</style>\n",
       "<table border=\"1\" class=\"dataframe\">\n",
       "  <thead>\n",
       "    <tr style=\"text-align: right;\">\n",
       "      <th></th>\n",
       "      <th>count</th>\n",
       "      <th>frequency(%)</th>\n",
       "    </tr>\n",
       "  </thead>\n",
       "  <tbody>\n",
       "    <tr>\n",
       "      <th>0</th>\n",
       "      <td>73540</td>\n",
       "      <td>73.540</td>\n",
       "    </tr>\n",
       "    <tr>\n",
       "      <th>1</th>\n",
       "      <td>12996</td>\n",
       "      <td>12.996</td>\n",
       "    </tr>\n",
       "    <tr>\n",
       "      <th>2</th>\n",
       "      <td>11236</td>\n",
       "      <td>11.236</td>\n",
       "    </tr>\n",
       "    <tr>\n",
       "      <th>3</th>\n",
       "      <td>983</td>\n",
       "      <td>0.983</td>\n",
       "    </tr>\n",
       "    <tr>\n",
       "      <th>4</th>\n",
       "      <td>446</td>\n",
       "      <td>0.446</td>\n",
       "    </tr>\n",
       "    <tr>\n",
       "      <th>5</th>\n",
       "      <td>331</td>\n",
       "      <td>0.331</td>\n",
       "    </tr>\n",
       "    <tr>\n",
       "      <th>9</th>\n",
       "      <td>264</td>\n",
       "      <td>0.264</td>\n",
       "    </tr>\n",
       "    <tr>\n",
       "      <th>6</th>\n",
       "      <td>204</td>\n",
       "      <td>0.204</td>\n",
       "    </tr>\n",
       "  </tbody>\n",
       "</table>\n",
       "</div>"
      ],
      "text/plain": [
       "   count  frequency(%)\n",
       "0  73540        73.540\n",
       "1  12996        12.996\n",
       "2  11236        11.236\n",
       "3    983         0.983\n",
       "4    446         0.446\n",
       "5    331         0.331\n",
       "9    264         0.264\n",
       "6    204         0.204"
      ]
     },
     "execution_count": 18,
     "metadata": {},
     "output_type": "execute_result"
    }
   ],
   "source": [
    "pd.DataFrame({\n",
    "    'count': data['Parch'].value_counts(),\n",
    "    'frequency(%)': (data['Parch'].value_counts() / data.shape[0]) * 100\n",
    "})"
   ]
  },
  {
   "cell_type": "code",
   "execution_count": 19,
   "id": "2c680c06",
   "metadata": {},
   "outputs": [
    {
     "name": "stdout",
     "output_type": "stream",
     "text": [
      "Distinct: 8\n",
      "Distinct(%): 0.01%\n",
      "Minimum: 0\n",
      "Maximum: 9\n"
     ]
    }
   ],
   "source": [
    "print(f'Distinct: {len(data[\"Parch\"].value_counts())}')\n",
    "print(f'Distinct(%): {round((len(data[\"Parch\"].value_counts()) / data.shape[0]) * 100, 2)}%')\n",
    "print(f'Minimum: {data[\"Parch\"].min()}')\n",
    "print(f'Maximum: {data[\"Parch\"].max()}')"
   ]
  },
  {
   "cell_type": "markdown",
   "id": "101a5840",
   "metadata": {},
   "source": [
    "Most of passengers traveled without parents and children.    \n",
    "Almost 13% traveled with 1 Parent/Child.  \n",
    "11% traveled with 2 Parents/Children.  \n",
    "Max number of Parch is 9."
   ]
  },
  {
   "cell_type": "markdown",
   "id": "4ff8e04c",
   "metadata": {},
   "source": [
    "### Questions to consider\n",
    "- Does having a family affect survival? Maybe people with a family had a higher chance of survival because they were rescued all together while the lonely ones were waiting for their turn"
   ]
  },
  {
   "cell_type": "markdown",
   "id": "7c87f947",
   "metadata": {},
   "source": [
    "**Age** and **Fare** are **continuous** variables. Lets assess number of distinct values, percent of unique, min and max values and some descriptive statistics:"
   ]
  },
  {
   "cell_type": "markdown",
   "id": "944e76dd",
   "metadata": {},
   "source": [
    "**Age:**"
   ]
  },
  {
   "cell_type": "code",
   "execution_count": 20,
   "id": "df934fbd",
   "metadata": {},
   "outputs": [
    {
     "data": {
      "text/plain": [
       "count    96708.000000\n",
       "mean        38.355472\n",
       "std         18.313556\n",
       "min          0.080000\n",
       "25%         25.000000\n",
       "50%         39.000000\n",
       "75%         53.000000\n",
       "max         87.000000\n",
       "Name: Age, dtype: float64"
      ]
     },
     "execution_count": 20,
     "metadata": {},
     "output_type": "execute_result"
    }
   ],
   "source": [
    "data['Age'].describe()"
   ]
  },
  {
   "cell_type": "code",
   "execution_count": 21,
   "id": "cd735bee",
   "metadata": {
    "scrolled": true
   },
   "outputs": [
    {
     "name": "stdout",
     "output_type": "stream",
     "text": [
      "Distinct: 173\n",
      "Distinct(%): 0.17%\n",
      "Missing: 3292\n",
      "Missing(%): 3.292%\n",
      "Minimum: 0.08\n",
      "Maximum: 87.0\n",
      "Mean: 38\n",
      "Median: 39\n",
      "Interquartile range: 28.0\n"
     ]
    }
   ],
   "source": [
    "print(f'Distinct: {len(data[\"Age\"].value_counts())}')\n",
    "print(f'Distinct(%): {round((len(data[\"Age\"].value_counts()) / data.shape[0]) * 100, 2)}%')\n",
    "print(f'Missing: {data[\"Age\"].isna().sum()}')\n",
    "print(f'Missing(%): {(data[\"Age\"].isna().sum() / data.shape[0]) * 100}%')\n",
    "print(f'Minimum: {data[\"Age\"].min()}')\n",
    "print(f'Maximum: {data[\"Age\"].max()}')\n",
    "print(f'Mean: {round(data[\"Age\"].mean())}')\n",
    "print(f'Median: {round(data[\"Age\"].median())}')\n",
    "IQR = data[\"Age\"].describe()['75%'] - data[\"Age\"].describe()['25%']\n",
    "print(f'Interquartile range: {IQR}')"
   ]
  },
  {
   "cell_type": "markdown",
   "id": "bd295eab",
   "metadata": {},
   "source": [
    "**Fare:**"
   ]
  },
  {
   "cell_type": "code",
   "execution_count": 22,
   "id": "158cae02",
   "metadata": {},
   "outputs": [
    {
     "data": {
      "text/plain": [
       "count    99866.00000\n",
       "mean        43.92933\n",
       "std         69.58882\n",
       "min          0.68000\n",
       "25%         10.04000\n",
       "50%         24.46000\n",
       "75%         33.50000\n",
       "max        744.66000\n",
       "Name: Fare, dtype: float64"
      ]
     },
     "execution_count": 22,
     "metadata": {},
     "output_type": "execute_result"
    }
   ],
   "source": [
    "data['Fare'].describe()"
   ]
  },
  {
   "cell_type": "code",
   "execution_count": 23,
   "id": "45da7ce6",
   "metadata": {},
   "outputs": [
    {
     "name": "stdout",
     "output_type": "stream",
     "text": [
      "Distinct: 15935\n",
      "Distinct(%): 15.93%\n",
      "Missing: 134\n",
      "Missing(%): 0.134%\n",
      "Minimum: 0.68\n",
      "Maximum: 744.66\n",
      "Mean: 44\n",
      "Median: 24\n"
     ]
    }
   ],
   "source": [
    "print(f'Distinct: {len(data[\"Fare\"].value_counts())}')\n",
    "print(f'Distinct(%): {round((len(data[\"Fare\"].value_counts()) / data.shape[0]) * 100, 2)}%')\n",
    "print(f'Missing: {data[\"Fare\"].isna().sum()}')\n",
    "print(f'Missing(%): {(data[\"Fare\"].isna().sum() / data.shape[0]) * 100}%')\n",
    "print(f'Minimum: {data[\"Fare\"].min()}')\n",
    "print(f'Maximum: {data[\"Fare\"].max()}')\n",
    "print(f'Mean: {round(data[\"Fare\"].mean())}')\n",
    "print(f'Median: {round(data[\"Fare\"].median())}')"
   ]
  },
  {
   "cell_type": "markdown",
   "id": "90709c7a",
   "metadata": {},
   "source": [
    "Mean(44) and Median(24) values significantly differ from Max(745). 75% of fare data is less than 33.5. It means we have a lot of outliers. Did outliers have a higher chance to survive?  \n",
    "\n",
    "We will explore distribution of **Age** and **Fare** in next section."
   ]
  },
  {
   "cell_type": "markdown",
   "id": "f5f8821d",
   "metadata": {},
   "source": [
    "### Categorical/Binary variables\n",
    "To do: count distinct, assess unique values"
   ]
  },
  {
   "cell_type": "code",
   "execution_count": 24,
   "id": "19129316",
   "metadata": {},
   "outputs": [
    {
     "data": {
      "text/plain": [
       "['Name', 'Sex', 'Ticket', 'Cabin', 'Embarked', 'Survived', 'Pclass']"
      ]
     },
     "execution_count": 24,
     "metadata": {},
     "output_type": "execute_result"
    }
   ],
   "source": [
    "cat_cols"
   ]
  },
  {
   "cell_type": "markdown",
   "id": "4b0e1001",
   "metadata": {},
   "source": [
    "**Survived:**"
   ]
  },
  {
   "cell_type": "code",
   "execution_count": 25,
   "id": "a407f638",
   "metadata": {
    "scrolled": true
   },
   "outputs": [
    {
     "data": {
      "text/html": [
       "<div>\n",
       "<style scoped>\n",
       "    .dataframe tbody tr th:only-of-type {\n",
       "        vertical-align: middle;\n",
       "    }\n",
       "\n",
       "    .dataframe tbody tr th {\n",
       "        vertical-align: top;\n",
       "    }\n",
       "\n",
       "    .dataframe thead th {\n",
       "        text-align: right;\n",
       "    }\n",
       "</style>\n",
       "<table border=\"1\" class=\"dataframe\">\n",
       "  <thead>\n",
       "    <tr style=\"text-align: right;\">\n",
       "      <th></th>\n",
       "      <th>count</th>\n",
       "      <th>frequency(%)</th>\n",
       "    </tr>\n",
       "  </thead>\n",
       "  <tbody>\n",
       "    <tr>\n",
       "      <th>0</th>\n",
       "      <td>57226</td>\n",
       "      <td>57.226</td>\n",
       "    </tr>\n",
       "    <tr>\n",
       "      <th>1</th>\n",
       "      <td>42774</td>\n",
       "      <td>42.774</td>\n",
       "    </tr>\n",
       "  </tbody>\n",
       "</table>\n",
       "</div>"
      ],
      "text/plain": [
       "   count  frequency(%)\n",
       "0  57226        57.226\n",
       "1  42774        42.774"
      ]
     },
     "execution_count": 25,
     "metadata": {},
     "output_type": "execute_result"
    }
   ],
   "source": [
    "pd.DataFrame({\n",
    "    'count': data['Survived'].value_counts(),\n",
    "    'frequency(%)': (data['Survived'].value_counts() / data.shape[0]) * 100\n",
    "})"
   ]
  },
  {
   "cell_type": "markdown",
   "id": "0656fbd6",
   "metadata": {},
   "source": [
    "**Binary** variable.  \n",
    "More people died than survived, but the difference is not too big."
   ]
  },
  {
   "cell_type": "markdown",
   "id": "8809410a",
   "metadata": {},
   "source": [
    "**Sex:**"
   ]
  },
  {
   "cell_type": "code",
   "execution_count": 26,
   "id": "467de05c",
   "metadata": {
    "scrolled": true
   },
   "outputs": [
    {
     "data": {
      "text/html": [
       "<div>\n",
       "<style scoped>\n",
       "    .dataframe tbody tr th:only-of-type {\n",
       "        vertical-align: middle;\n",
       "    }\n",
       "\n",
       "    .dataframe tbody tr th {\n",
       "        vertical-align: top;\n",
       "    }\n",
       "\n",
       "    .dataframe thead th {\n",
       "        text-align: right;\n",
       "    }\n",
       "</style>\n",
       "<table border=\"1\" class=\"dataframe\">\n",
       "  <thead>\n",
       "    <tr style=\"text-align: right;\">\n",
       "      <th></th>\n",
       "      <th>count</th>\n",
       "      <th>frequency(%)</th>\n",
       "    </tr>\n",
       "  </thead>\n",
       "  <tbody>\n",
       "    <tr>\n",
       "      <th>male</th>\n",
       "      <td>56114</td>\n",
       "      <td>56.114</td>\n",
       "    </tr>\n",
       "    <tr>\n",
       "      <th>female</th>\n",
       "      <td>43886</td>\n",
       "      <td>43.886</td>\n",
       "    </tr>\n",
       "  </tbody>\n",
       "</table>\n",
       "</div>"
      ],
      "text/plain": [
       "        count  frequency(%)\n",
       "male    56114        56.114\n",
       "female  43886        43.886"
      ]
     },
     "execution_count": 26,
     "metadata": {},
     "output_type": "execute_result"
    }
   ],
   "source": [
    "pd.DataFrame({\n",
    "    'count': data['Sex'].value_counts(),\n",
    "    'frequency(%)': (data['Sex'].value_counts() / data.shape[0]) * 100\n",
    "})"
   ]
  },
  {
   "cell_type": "markdown",
   "id": "08f38a2a",
   "metadata": {},
   "source": [
    "**Binary** variable.  \n",
    "There were more men on the ship."
   ]
  },
  {
   "cell_type": "markdown",
   "id": "794be1a4",
   "metadata": {},
   "source": [
    "**Pcalss:**"
   ]
  },
  {
   "cell_type": "code",
   "execution_count": 27,
   "id": "9b39127f",
   "metadata": {},
   "outputs": [
    {
     "data": {
      "text/html": [
       "<div>\n",
       "<style scoped>\n",
       "    .dataframe tbody tr th:only-of-type {\n",
       "        vertical-align: middle;\n",
       "    }\n",
       "\n",
       "    .dataframe tbody tr th {\n",
       "        vertical-align: top;\n",
       "    }\n",
       "\n",
       "    .dataframe thead th {\n",
       "        text-align: right;\n",
       "    }\n",
       "</style>\n",
       "<table border=\"1\" class=\"dataframe\">\n",
       "  <thead>\n",
       "    <tr style=\"text-align: right;\">\n",
       "      <th></th>\n",
       "      <th>count</th>\n",
       "      <th>frequency(%)</th>\n",
       "    </tr>\n",
       "  </thead>\n",
       "  <tbody>\n",
       "    <tr>\n",
       "      <th>3</th>\n",
       "      <td>41006</td>\n",
       "      <td>41.006</td>\n",
       "    </tr>\n",
       "    <tr>\n",
       "      <th>1</th>\n",
       "      <td>30315</td>\n",
       "      <td>30.315</td>\n",
       "    </tr>\n",
       "    <tr>\n",
       "      <th>2</th>\n",
       "      <td>28679</td>\n",
       "      <td>28.679</td>\n",
       "    </tr>\n",
       "  </tbody>\n",
       "</table>\n",
       "</div>"
      ],
      "text/plain": [
       "   count  frequency(%)\n",
       "3  41006        41.006\n",
       "1  30315        30.315\n",
       "2  28679        28.679"
      ]
     },
     "execution_count": 27,
     "metadata": {},
     "output_type": "execute_result"
    }
   ],
   "source": [
    "pd.DataFrame({\n",
    "    'count': data['Pclass'].value_counts(),\n",
    "    'frequency(%)': (data['Pclass'].value_counts() / data.shape[0]) * 100\n",
    "})"
   ]
  },
  {
   "cell_type": "markdown",
   "id": "20dee204",
   "metadata": {},
   "source": [
    "Values can be sorted. It is an **ordinal** variable.  \n",
    "There were more 3-class passengers."
   ]
  },
  {
   "cell_type": "markdown",
   "id": "023d8ab9",
   "metadata": {},
   "source": [
    "**Embarked:**"
   ]
  },
  {
   "cell_type": "code",
   "execution_count": 28,
   "id": "1b486480",
   "metadata": {
    "scrolled": true
   },
   "outputs": [
    {
     "data": {
      "text/html": [
       "<div>\n",
       "<style scoped>\n",
       "    .dataframe tbody tr th:only-of-type {\n",
       "        vertical-align: middle;\n",
       "    }\n",
       "\n",
       "    .dataframe tbody tr th {\n",
       "        vertical-align: top;\n",
       "    }\n",
       "\n",
       "    .dataframe thead th {\n",
       "        text-align: right;\n",
       "    }\n",
       "</style>\n",
       "<table border=\"1\" class=\"dataframe\">\n",
       "  <thead>\n",
       "    <tr style=\"text-align: right;\">\n",
       "      <th></th>\n",
       "      <th>count</th>\n",
       "      <th>frequency(%)</th>\n",
       "    </tr>\n",
       "  </thead>\n",
       "  <tbody>\n",
       "    <tr>\n",
       "      <th>S</th>\n",
       "      <td>72139</td>\n",
       "      <td>72.139</td>\n",
       "    </tr>\n",
       "    <tr>\n",
       "      <th>C</th>\n",
       "      <td>22187</td>\n",
       "      <td>22.187</td>\n",
       "    </tr>\n",
       "    <tr>\n",
       "      <th>Q</th>\n",
       "      <td>5424</td>\n",
       "      <td>5.424</td>\n",
       "    </tr>\n",
       "  </tbody>\n",
       "</table>\n",
       "</div>"
      ],
      "text/plain": [
       "   count  frequency(%)\n",
       "S  72139        72.139\n",
       "C  22187        22.187\n",
       "Q   5424         5.424"
      ]
     },
     "execution_count": 28,
     "metadata": {},
     "output_type": "execute_result"
    }
   ],
   "source": [
    "pd.DataFrame({\n",
    "    'count': data['Embarked'].value_counts(),\n",
    "    'frequency(%)': (data['Embarked'].value_counts() / data.shape[0]) * 100\n",
    "})"
   ]
  },
  {
   "cell_type": "markdown",
   "id": "0e3b691c",
   "metadata": {},
   "source": [
    "Categorical variable without order or priority.  \n",
    "Most of passengers embarked from Southampton. Maybe this value will be correlated with survival because of large proportion."
   ]
  },
  {
   "cell_type": "markdown",
   "id": "cf15a33b",
   "metadata": {},
   "source": [
    "**Name:**"
   ]
  },
  {
   "cell_type": "code",
   "execution_count": 29,
   "id": "49ae0768",
   "metadata": {},
   "outputs": [
    {
     "data": {
      "text/plain": [
       "Johnson, John        31\n",
       "Smith, James         24\n",
       "Smith, John          24\n",
       "Johnson, William     22\n",
       "Smith, Michael       20\n",
       "                     ..\n",
       "Davis, Andre          1\n",
       "Rosenblum, Ronald     1\n",
       "Landry, Ernesto       1\n",
       "Mcdonald, Frances     1\n",
       "Enciso, Tyler         1\n",
       "Name: Name, Length: 92144, dtype: int64"
      ]
     },
     "execution_count": 29,
     "metadata": {},
     "output_type": "execute_result"
    }
   ],
   "source": [
    "data['Name'].value_counts()"
   ]
  },
  {
   "cell_type": "code",
   "execution_count": 30,
   "id": "a2201cc2",
   "metadata": {},
   "outputs": [
    {
     "name": "stdout",
     "output_type": "stream",
     "text": [
      "Distinct: 92144\n",
      "Missing: 0\n",
      "Missing(%): 0.0%\n"
     ]
    }
   ],
   "source": [
    "print(f'Distinct: {len(data[\"Name\"].value_counts())}')\n",
    "print(f'Missing: {data[\"Name\"].isna().sum()}')\n",
    "print(f'Missing(%): {(data[\"Name\"].isna().sum() / data.shape[0]) * 100}%')"
   ]
  },
  {
   "cell_type": "markdown",
   "id": "6ca78601",
   "metadata": {},
   "source": [
    "Variable with high cardinality."
   ]
  },
  {
   "cell_type": "markdown",
   "id": "21d1cb9d",
   "metadata": {},
   "source": [
    "**Ticket:**"
   ]
  },
  {
   "cell_type": "code",
   "execution_count": 31,
   "id": "7109969f",
   "metadata": {},
   "outputs": [
    {
     "data": {
      "text/plain": [
       "A/5             602\n",
       "C.A.            177\n",
       "SC/PARIS        145\n",
       "SOTON/O.Q.       80\n",
       "SC               57\n",
       "               ... \n",
       "421812            1\n",
       "PC 420601         1\n",
       "PC 26800          1\n",
       "STON/O 23755      1\n",
       "458074            1\n",
       "Name: Ticket, Length: 75331, dtype: int64"
      ]
     },
     "execution_count": 31,
     "metadata": {},
     "output_type": "execute_result"
    }
   ],
   "source": [
    "data['Ticket'].value_counts()"
   ]
  },
  {
   "cell_type": "code",
   "execution_count": 32,
   "id": "ab817471",
   "metadata": {},
   "outputs": [
    {
     "name": "stdout",
     "output_type": "stream",
     "text": [
      "Distinct: 75331\n",
      "Missing: 4623\n",
      "Missing(%): 4.623%\n"
     ]
    }
   ],
   "source": [
    "print(f'Distinct: {len(data[\"Ticket\"].value_counts())}')\n",
    "print(f'Missing: {data[\"Ticket\"].isna().sum()}')\n",
    "print(f'Missing(%): {(data[\"Ticket\"].isna().sum() / data.shape[0]) * 100}%')"
   ]
  },
  {
   "cell_type": "markdown",
   "id": "c8336f7b",
   "metadata": {},
   "source": [
    "Variable with high cardinality."
   ]
  },
  {
   "cell_type": "markdown",
   "id": "d11fcbaa",
   "metadata": {},
   "source": [
    "**Cabin:**"
   ]
  },
  {
   "cell_type": "code",
   "execution_count": 33,
   "id": "a687a61a",
   "metadata": {},
   "outputs": [
    {
     "data": {
      "text/plain": [
       "C19828    6\n",
       "C6906     5\n",
       "C13699    5\n",
       "C14534    5\n",
       "B11110    5\n",
       "         ..\n",
       "A21234    1\n",
       "A4905     1\n",
       "C7208     1\n",
       "A5788     1\n",
       "D17243    1\n",
       "Name: Cabin, Length: 26992, dtype: int64"
      ]
     },
     "execution_count": 33,
     "metadata": {},
     "output_type": "execute_result"
    }
   ],
   "source": [
    "data['Cabin'].value_counts()"
   ]
  },
  {
   "cell_type": "code",
   "execution_count": 34,
   "id": "06a70fee",
   "metadata": {},
   "outputs": [
    {
     "name": "stdout",
     "output_type": "stream",
     "text": [
      "Distinct: 26992\n",
      "Missing: 67866\n",
      "Missing(%): 67.866%\n"
     ]
    }
   ],
   "source": [
    "print(f'Distinct: {len(data[\"Cabin\"].value_counts())}')\n",
    "print(f'Missing: {data[\"Cabin\"].isna().sum()}')\n",
    "print(f'Missing(%): {(data[\"Cabin\"].isna().sum() / data.shape[0]) * 100}%')"
   ]
  },
  {
   "cell_type": "markdown",
   "id": "eed31ce8",
   "metadata": {},
   "source": [
    "Variable with high cardinality.  \n",
    "A lot of missing values."
   ]
  },
  {
   "cell_type": "markdown",
   "id": "8a0ebbc5",
   "metadata": {},
   "source": [
    "We will explore these variables deeper in next section."
   ]
  },
  {
   "cell_type": "markdown",
   "id": "5408eca5",
   "metadata": {},
   "source": [
    "# Data exploration"
   ]
  },
  {
   "cell_type": "markdown",
   "id": "fd08e7a4",
   "metadata": {},
   "source": [
    "## 1. Exploring each individual variable"
   ]
  },
  {
   "cell_type": "markdown",
   "id": "7e4d401c",
   "metadata": {},
   "source": [
    "### 1.1 Numerical variables"
   ]
  },
  {
   "cell_type": "code",
   "execution_count": 35,
   "id": "2e7a2db9",
   "metadata": {},
   "outputs": [
    {
     "data": {
      "text/html": [
       "<div>\n",
       "<style scoped>\n",
       "    .dataframe tbody tr th:only-of-type {\n",
       "        vertical-align: middle;\n",
       "    }\n",
       "\n",
       "    .dataframe tbody tr th {\n",
       "        vertical-align: top;\n",
       "    }\n",
       "\n",
       "    .dataframe thead th {\n",
       "        text-align: right;\n",
       "    }\n",
       "</style>\n",
       "<table border=\"1\" class=\"dataframe\">\n",
       "  <thead>\n",
       "    <tr style=\"text-align: right;\">\n",
       "      <th></th>\n",
       "      <th>Age</th>\n",
       "      <th>SibSp</th>\n",
       "      <th>Parch</th>\n",
       "      <th>Fare</th>\n",
       "    </tr>\n",
       "  </thead>\n",
       "  <tbody>\n",
       "    <tr>\n",
       "      <th>count</th>\n",
       "      <td>96708.000000</td>\n",
       "      <td>100000.000000</td>\n",
       "      <td>100000.000000</td>\n",
       "      <td>99866.00000</td>\n",
       "    </tr>\n",
       "    <tr>\n",
       "      <th>mean</th>\n",
       "      <td>38.355472</td>\n",
       "      <td>0.397690</td>\n",
       "      <td>0.454560</td>\n",
       "      <td>43.92933</td>\n",
       "    </tr>\n",
       "    <tr>\n",
       "      <th>std</th>\n",
       "      <td>18.313556</td>\n",
       "      <td>0.862566</td>\n",
       "      <td>0.950076</td>\n",
       "      <td>69.58882</td>\n",
       "    </tr>\n",
       "    <tr>\n",
       "      <th>min</th>\n",
       "      <td>0.080000</td>\n",
       "      <td>0.000000</td>\n",
       "      <td>0.000000</td>\n",
       "      <td>0.68000</td>\n",
       "    </tr>\n",
       "    <tr>\n",
       "      <th>25%</th>\n",
       "      <td>25.000000</td>\n",
       "      <td>0.000000</td>\n",
       "      <td>0.000000</td>\n",
       "      <td>10.04000</td>\n",
       "    </tr>\n",
       "    <tr>\n",
       "      <th>50%</th>\n",
       "      <td>39.000000</td>\n",
       "      <td>0.000000</td>\n",
       "      <td>0.000000</td>\n",
       "      <td>24.46000</td>\n",
       "    </tr>\n",
       "    <tr>\n",
       "      <th>75%</th>\n",
       "      <td>53.000000</td>\n",
       "      <td>1.000000</td>\n",
       "      <td>1.000000</td>\n",
       "      <td>33.50000</td>\n",
       "    </tr>\n",
       "    <tr>\n",
       "      <th>max</th>\n",
       "      <td>87.000000</td>\n",
       "      <td>8.000000</td>\n",
       "      <td>9.000000</td>\n",
       "      <td>744.66000</td>\n",
       "    </tr>\n",
       "  </tbody>\n",
       "</table>\n",
       "</div>"
      ],
      "text/plain": [
       "                Age          SibSp          Parch         Fare\n",
       "count  96708.000000  100000.000000  100000.000000  99866.00000\n",
       "mean      38.355472       0.397690       0.454560     43.92933\n",
       "std       18.313556       0.862566       0.950076     69.58882\n",
       "min        0.080000       0.000000       0.000000      0.68000\n",
       "25%       25.000000       0.000000       0.000000     10.04000\n",
       "50%       39.000000       0.000000       0.000000     24.46000\n",
       "75%       53.000000       1.000000       1.000000     33.50000\n",
       "max       87.000000       8.000000       9.000000    744.66000"
      ]
     },
     "execution_count": 35,
     "metadata": {},
     "output_type": "execute_result"
    }
   ],
   "source": [
    "data[num_cols].describe()"
   ]
  },
  {
   "cell_type": "markdown",
   "id": "42792960",
   "metadata": {},
   "source": [
    "**SibSp** and **Parch** are numeric, but take discrete number of values. We will visualize them using countplot:"
   ]
  },
  {
   "cell_type": "code",
   "execution_count": 36,
   "id": "fa5dd9b0",
   "metadata": {},
   "outputs": [
    {
     "data": {
      "text/plain": [
       "<AxesSubplot:xlabel='Parch', ylabel='count'>"
      ]
     },
     "execution_count": 36,
     "metadata": {},
     "output_type": "execute_result"
    },
    {
     "data": {
      "image/png": "[encoded data removed]",
      "text/plain": [
       "<Figure size 864x288 with 2 Axes>"
      ]
     },
     "metadata": {},
     "output_type": "display_data"
    }
   ],
   "source": [
    "_, axes = plt.subplots(1, 2, figsize=(12, 4))\n",
    "\n",
    "sns.countplot(data=data, x='SibSp', ax=axes[0])\n",
    "sns.countplot(data=data, x='Parch', ax=axes[1])"
   ]
  },
  {
   "cell_type": "code",
   "execution_count": 37,
   "id": "b332a197",
   "metadata": {},
   "outputs": [
    {
     "data": {
      "text/plain": [
       "Text(-7.324999999999996, 0.5, 'Count')"
      ]
     },
     "execution_count": 37,
     "metadata": {},
     "output_type": "execute_result"
    },
    {
     "data": {
      "image/png": "[encoded data removed]",
      "text/plain": [
       "<Figure size 360x360 with 1 Axes>"
      ]
     },
     "metadata": {},
     "output_type": "display_data"
    }
   ],
   "source": [
    "sns.displot(data=data, x='Age', kde=True, bins=10)\n",
    "plt.xlabel('Age', fontsize=14)\n",
    "plt.ylabel('Count', fontsize=14)"
   ]
  },
  {
   "cell_type": "markdown",
   "id": "4732d78c",
   "metadata": {},
   "source": [
    "Most of passengers lie in the range 20-60 years. The first bin is quite noticeable too.  \n",
    "\n",
    "Maybe it makes sense to create a new categorical variable - the age group - and label all passengers with corresponding age group for further exploration."
   ]
  },
  {
   "cell_type": "code",
   "execution_count": 38,
   "id": "2d4af999",
   "metadata": {},
   "outputs": [
    {
     "data": {
      "text/plain": [
       "Text(-7.324999999999996, 0.5, 'Count')"
      ]
     },
     "execution_count": 38,
     "metadata": {},
     "output_type": "execute_result"
    },
    {
     "data": {
      "image/png": "[encoded data removed]",
      "text/plain": [
       "<Figure size 360x360 with 1 Axes>"
      ]
     },
     "metadata": {},
     "output_type": "display_data"
    }
   ],
   "source": [
    "sns.displot(data=data, x='Fare', kde=True, bins=20)\n",
    "plt.xlabel('Fare', fontsize=14)\n",
    "plt.ylabel('Count', fontsize=14)"
   ]
  },
  {
   "cell_type": "markdown",
   "id": "5a94fde9",
   "metadata": {},
   "source": [
    "Variable Fare skewed right. Lets have a closer look to its statistics:"
   ]
  },
  {
   "cell_type": "code",
   "execution_count": 39,
   "id": "039c44b9",
   "metadata": {},
   "outputs": [
    {
     "data": {
      "text/plain": [
       "count    99866.00000\n",
       "mean        43.92933\n",
       "std         69.58882\n",
       "min          0.68000\n",
       "25%         10.04000\n",
       "50%         24.46000\n",
       "75%         33.50000\n",
       "max        744.66000\n",
       "Name: Fare, dtype: float64"
      ]
     },
     "execution_count": 39,
     "metadata": {},
     "output_type": "execute_result"
    }
   ],
   "source": [
    "data['Fare'].describe()"
   ]
  },
  {
   "cell_type": "code",
   "execution_count": 40,
   "id": "cbdc3b06",
   "metadata": {},
   "outputs": [
    {
     "data": {
      "text/plain": [
       "<AxesSubplot:xlabel='Fare'>"
      ]
     },
     "execution_count": 40,
     "metadata": {},
     "output_type": "execute_result"
    },
    {
     "data": {
      "image/png": "[encoded data removed]",
      "text/plain": [
       "<Figure size 720x432 with 1 Axes>"
      ]
     },
     "metadata": {},
     "output_type": "display_data"
    }
   ],
   "source": [
    "plt.figure(figsize=(10,6))\n",
    "sns.boxplot(data=data, x='Fare')"
   ]
  },
  {
   "cell_type": "code",
   "execution_count": 41,
   "id": "18772a1f",
   "metadata": {},
   "outputs": [
    {
     "data": {
      "text/plain": [
       "74907"
      ]
     },
     "execution_count": 41,
     "metadata": {},
     "output_type": "execute_result"
    }
   ],
   "source": [
    "data[data['Fare'] <= data['Fare'].describe()['75%']].shape[0]"
   ]
  },
  {
   "cell_type": "code",
   "execution_count": 42,
   "id": "f9a7d2a8",
   "metadata": {},
   "outputs": [
    {
     "data": {
      "text/plain": [
       "17161"
      ]
     },
     "execution_count": 42,
     "metadata": {},
     "output_type": "execute_result"
    }
   ],
   "source": [
    "IQR = data['Fare'].describe()['75%'] - data['Fare'].describe()['25%'] # interquartile range\n",
    "data[data['Fare'] > data['Fare'].describe()['75%'] + 1.5 * IQR].shape[0]"
   ]
  },
  {
   "cell_type": "code",
   "execution_count": 43,
   "id": "34414663",
   "metadata": {},
   "outputs": [
    {
     "data": {
      "text/plain": [
       "17.161"
      ]
     },
     "execution_count": 43,
     "metadata": {},
     "output_type": "execute_result"
    }
   ],
   "source": [
    "(data[data['Fare'] > data['Fare'].describe()['75%'] + 1.5 * IQR].shape[0] / data.shape[0]) * 100"
   ]
  },
  {
   "cell_type": "markdown",
   "id": "8efbbaa1",
   "metadata": {},
   "source": [
    "Median (24.5) significantly differs from max (745). 75% of fare data is less than 33.5.  \n",
    "17.161% of passengers are outliers. Did they have more chances to survive?  \n",
    "We will explore later how Fare correlates survival."
   ]
  },
  {
   "cell_type": "markdown",
   "id": "0940d254",
   "metadata": {},
   "source": [
    "### 1.2 Categorical variables"
   ]
  },
  {
   "cell_type": "code",
   "execution_count": 44,
   "id": "a31f9387",
   "metadata": {},
   "outputs": [
    {
     "data": {
      "text/plain": [
       "<AxesSubplot:xlabel='Sex', ylabel='count'>"
      ]
     },
     "execution_count": 44,
     "metadata": {},
     "output_type": "execute_result"
    },
    {
     "data": {
      "image/png": "[encoded data removed]",
      "text/plain": [
       "<Figure size 864x432 with 2 Axes>"
      ]
     },
     "metadata": {},
     "output_type": "display_data"
    }
   ],
   "source": [
    "_, axes = plt.subplots(1, 2, figsize=(12,6))\n",
    "sns.countplot(data=data, x='Survived', ax=axes[0])\n",
    "sns.countplot(data=data, x='Sex', ax=axes[1])"
   ]
  },
  {
   "cell_type": "markdown",
   "id": "37fcc783",
   "metadata": {},
   "source": [
    "Classes are slightly imbalanced."
   ]
  },
  {
   "cell_type": "code",
   "execution_count": 45,
   "id": "983692b8",
   "metadata": {},
   "outputs": [
    {
     "data": {
      "text/plain": [
       "<AxesSubplot:xlabel='Embarked', ylabel='count'>"
      ]
     },
     "execution_count": 45,
     "metadata": {},
     "output_type": "execute_result"
    },
    {
     "data": {
      "image/png": "[encoded data removed]",
      "text/plain": [
       "<Figure size 864x432 with 2 Axes>"
      ]
     },
     "metadata": {},
     "output_type": "display_data"
    }
   ],
   "source": [
    "_, axes = plt.subplots(1, 2, figsize=(12,6))\n",
    "sns.countplot(data=data, x='Pclass', ax=axes[0])\n",
    "sns.countplot(data=data, x='Embarked', ax=axes[1])"
   ]
  },
  {
   "cell_type": "markdown",
   "id": "2e764d65",
   "metadata": {},
   "source": [
    "Most of passengers belonged to 3-class.  \n",
    "Majority of passengers embarked in Southhampton and only few of them embarked in Queenstown. \n",
    "We will explore relationships between Pclass, Embarked and survival in next section."
   ]
  },
  {
   "cell_type": "markdown",
   "id": "582c194c",
   "metadata": {},
   "source": [
    "**Name**, **Ticket** and **Cabin** have a lot of unique values. They are strings and cannot be categorized.  \n",
    "Name values don't tell us anything useful and can be dropped.  \n",
    "But we still have Cabin and Ticket with a lot of missing values. We will investigate them deeper in next section."
   ]
  },
  {
   "cell_type": "markdown",
   "id": "05929885",
   "metadata": {},
   "source": [
    "## 2. Exploring the relationship between each variable and the target"
   ]
  },
  {
   "cell_type": "markdown",
   "id": "47057067",
   "metadata": {},
   "source": [
    "Our target variable **Survived** is categorical. We will explore **continuous x categorical** and **categorical x categorical** relationships."
   ]
  },
  {
   "cell_type": "markdown",
   "id": "20f3a0c2",
   "metadata": {},
   "source": [
    "### 2.1 Continuous x Categorical"
   ]
  },
  {
   "cell_type": "code",
   "execution_count": 46,
   "id": "e21de7c5",
   "metadata": {
    "scrolled": false
   },
   "outputs": [
    {
     "data": {
      "image/png": "[encoded data removed]",
      "text/plain": [
       "<Figure size 1080x720 with 4 Axes>"
      ]
     },
     "metadata": {},
     "output_type": "display_data"
    }
   ],
   "source": [
    "_, axes = plt.subplots(2, 2, figsize=(15, 10))\n",
    "for idx, col in enumerate(['Fare', 'Age']):\n",
    "    sns.boxplot(data=data, x='Survived', y=col, ax=axes[idx, 0])\n",
    "    sns.violinplot(data=data, x='Survived', y=col, ax=axes[idx, 1])"
   ]
  },
  {
   "cell_type": "markdown",
   "id": "0c2f25e7",
   "metadata": {},
   "source": [
    "Passengers with bigger **Fare** had more chances ro survive.  \n",
    "Seems that chances of survival increase with age.\n",
    "Let's divide these continuous variables into the corresponding groups (age range and fare range) and analyze them again:"
   ]
  },
  {
   "cell_type": "markdown",
   "id": "da2bcb40",
   "metadata": {},
   "source": [
    "**Age range:**"
   ]
  },
  {
   "cell_type": "code",
   "execution_count": 47,
   "id": "cede7763",
   "metadata": {
    "scrolled": false
   },
   "outputs": [
    {
     "data": {
      "text/plain": [
       "<AxesSubplot:xlabel='AgeRange', ylabel='Survived'>"
      ]
     },
     "execution_count": 47,
     "metadata": {},
     "output_type": "execute_result"
    },
    {
     "data": {
      "image/png": "[encoded data removed]",
      "text/plain": [
       "<Figure size 720x432 with 1 Axes>"
      ]
     },
     "metadata": {},
     "output_type": "display_data"
    }
   ],
   "source": [
    "# Divide Age into 6 bins\n",
    "data['AgeRange'] = pd.cut(data['Age'], 6)\n",
    "\n",
    "plt.figure(figsize=(10,6))\n",
    "sns.barplot(data=data, x ='AgeRange', y ='Survived')"
   ]
  },
  {
   "cell_type": "code",
   "execution_count": 48,
   "id": "2e1f25dc",
   "metadata": {},
   "outputs": [
    {
     "data": {
      "text/html": [
       "<div>\n",
       "<style scoped>\n",
       "    .dataframe tbody tr th:only-of-type {\n",
       "        vertical-align: middle;\n",
       "    }\n",
       "\n",
       "    .dataframe tbody tr th {\n",
       "        vertical-align: top;\n",
       "    }\n",
       "\n",
       "    .dataframe thead th {\n",
       "        text-align: right;\n",
       "    }\n",
       "</style>\n",
       "<table border=\"1\" class=\"dataframe\">\n",
       "  <thead>\n",
       "    <tr style=\"text-align: right;\">\n",
       "      <th></th>\n",
       "      <th>Count</th>\n",
       "      <th>Frequency(%)</th>\n",
       "    </tr>\n",
       "  </thead>\n",
       "  <tbody>\n",
       "    <tr>\n",
       "      <th>(43.54, 58.027]</th>\n",
       "      <td>26215</td>\n",
       "      <td>26.215</td>\n",
       "    </tr>\n",
       "    <tr>\n",
       "      <th>(14.567, 29.053]</th>\n",
       "      <td>23023</td>\n",
       "      <td>23.023</td>\n",
       "    </tr>\n",
       "    <tr>\n",
       "      <th>(29.053, 43.54]</th>\n",
       "      <td>21752</td>\n",
       "      <td>21.752</td>\n",
       "    </tr>\n",
       "    <tr>\n",
       "      <th>(58.027, 72.513]</th>\n",
       "      <td>13747</td>\n",
       "      <td>13.747</td>\n",
       "    </tr>\n",
       "    <tr>\n",
       "      <th>(-0.00692, 14.567]</th>\n",
       "      <td>10852</td>\n",
       "      <td>10.852</td>\n",
       "    </tr>\n",
       "    <tr>\n",
       "      <th>(72.513, 87.0]</th>\n",
       "      <td>1119</td>\n",
       "      <td>1.119</td>\n",
       "    </tr>\n",
       "  </tbody>\n",
       "</table>\n",
       "</div>"
      ],
      "text/plain": [
       "                    Count  Frequency(%)\n",
       "(43.54, 58.027]     26215        26.215\n",
       "(14.567, 29.053]    23023        23.023\n",
       "(29.053, 43.54]     21752        21.752\n",
       "(58.027, 72.513]    13747        13.747\n",
       "(-0.00692, 14.567]  10852        10.852\n",
       "(72.513, 87.0]       1119         1.119"
      ]
     },
     "execution_count": 48,
     "metadata": {},
     "output_type": "execute_result"
    }
   ],
   "source": [
    "pd.DataFrame({\n",
    "    'Count': data['AgeRange'].value_counts(),\n",
    "    'Frequency(%)': (data['AgeRange'].value_counts() / data.shape[0]) * 100\n",
    "})"
   ]
  },
  {
   "cell_type": "markdown",
   "id": "7a706d45",
   "metadata": {},
   "source": [
    "Children under the age of 15 have a better chance of survival than the group aged 15-29 years (although the number of passengers belonging to the second group is more than twice as large).  \n",
    "After 29, the chances of survival increase with age. The smallest group of 72-87 has quite high chance of survival.  \n",
    "It means **Age** column is important for predicting and missing values need to be filled (for example using nearest neighbor imputation)."
   ]
  },
  {
   "cell_type": "markdown",
   "id": "4c7413c7",
   "metadata": {},
   "source": [
    "**Fare range:**"
   ]
  },
  {
   "cell_type": "code",
   "execution_count": 49,
   "id": "bca6d6f1",
   "metadata": {
    "scrolled": false
   },
   "outputs": [
    {
     "data": {
      "text/plain": [
       "<AxesSubplot:xlabel='FareRange', ylabel='Survived'>"
      ]
     },
     "execution_count": 49,
     "metadata": {},
     "output_type": "execute_result"
    },
    {
     "data": {
      "image/png": "[encoded data removed]",
      "text/plain": [
       "<Figure size 720x432 with 1 Axes>"
      ]
     },
     "metadata": {},
     "output_type": "display_data"
    }
   ],
   "source": [
    "data['FareRange'] = pd.qcut(data['Fare'], 4)\n",
    "\n",
    "plt.figure(figsize=(10,6))\n",
    "sns.barplot(data=data, x ='FareRange', y ='Survived')"
   ]
  },
  {
   "cell_type": "code",
   "execution_count": 50,
   "id": "41c580aa",
   "metadata": {},
   "outputs": [
    {
     "data": {
      "text/html": [
       "<div>\n",
       "<style scoped>\n",
       "    .dataframe tbody tr th:only-of-type {\n",
       "        vertical-align: middle;\n",
       "    }\n",
       "\n",
       "    .dataframe tbody tr th {\n",
       "        vertical-align: top;\n",
       "    }\n",
       "\n",
       "    .dataframe thead th {\n",
       "        text-align: right;\n",
       "    }\n",
       "</style>\n",
       "<table border=\"1\" class=\"dataframe\">\n",
       "  <thead>\n",
       "    <tr style=\"text-align: right;\">\n",
       "      <th></th>\n",
       "      <th>Count</th>\n",
       "      <th>Frequency(%)</th>\n",
       "    </tr>\n",
       "  </thead>\n",
       "  <tbody>\n",
       "    <tr>\n",
       "      <th>(0.679, 10.04]</th>\n",
       "      <td>25033</td>\n",
       "      <td>25.033</td>\n",
       "    </tr>\n",
       "    <tr>\n",
       "      <th>(24.46, 33.5]</th>\n",
       "      <td>24968</td>\n",
       "      <td>24.968</td>\n",
       "    </tr>\n",
       "    <tr>\n",
       "      <th>(33.5, 744.66]</th>\n",
       "      <td>24959</td>\n",
       "      <td>24.959</td>\n",
       "    </tr>\n",
       "    <tr>\n",
       "      <th>(10.04, 24.46]</th>\n",
       "      <td>24906</td>\n",
       "      <td>24.906</td>\n",
       "    </tr>\n",
       "  </tbody>\n",
       "</table>\n",
       "</div>"
      ],
      "text/plain": [
       "                Count  Frequency(%)\n",
       "(0.679, 10.04]  25033        25.033\n",
       "(24.46, 33.5]   24968        24.968\n",
       "(33.5, 744.66]  24959        24.959\n",
       "(10.04, 24.46]  24906        24.906"
      ]
     },
     "execution_count": 50,
     "metadata": {},
     "output_type": "execute_result"
    }
   ],
   "source": [
    "pd.DataFrame({\n",
    "    'Count': data['FareRange'].value_counts(),\n",
    "    'Frequency(%)': (data['FareRange'].value_counts() / data.shape[0]) * 100\n",
    "})"
   ]
  },
  {
   "cell_type": "markdown",
   "id": "6b9ab401",
   "metadata": {},
   "source": [
    "The chances of survival increase with higher fare. Group of outliers indeed had the biggest chance of survival.   \n",
    "It means **Fare** column is important for predicting and missing values need to be filled (median value seems reasonble)."
   ]
  },
  {
   "cell_type": "markdown",
   "id": "b0ccfef7",
   "metadata": {},
   "source": [
    "### 2.2 Categorical x Categorical"
   ]
  },
  {
   "cell_type": "markdown",
   "id": "288d692b",
   "metadata": {},
   "source": [
    "As we saw earlier, variables **Parch** and **SibSp** take discrete number of values and, thus, can be considered either numerical or categorical. We have already seen their distributions with a count plot. Now, we are interested in the relationship between these variables and the target variable:"
   ]
  },
  {
   "cell_type": "code",
   "execution_count": 51,
   "id": "586316b4",
   "metadata": {},
   "outputs": [
    {
     "data": {
      "text/plain": [
       "<AxesSubplot:xlabel='Parch', ylabel='count'>"
      ]
     },
     "execution_count": 51,
     "metadata": {},
     "output_type": "execute_result"
    },
    {
     "data": {
      "image/png": "[encoded data removed]",
      "text/plain": [
       "<Figure size 864x432 with 2 Axes>"
      ]
     },
     "metadata": {},
     "output_type": "display_data"
    }
   ],
   "source": [
    "_, axes = plt.subplots(1, 2, figsize=(12, 6))\n",
    "sns.countplot(data=data, x='SibSp', hue='Survived', ax=axes[0])\n",
    "sns.countplot(data=data, x='Parch', hue='Survived', ax=axes[1])"
   ]
  },
  {
   "cell_type": "code",
   "execution_count": 73,
   "id": "e8c7c136",
   "metadata": {},
   "outputs": [
    {
     "data": {
      "text/plain": [
       "<AxesSubplot:xlabel='Parch', ylabel='Survived'>"
      ]
     },
     "execution_count": 73,
     "metadata": {},
     "output_type": "execute_result"
    },
    {
     "data": {
      "image/png": "[encoded data removed]",
      "text/plain": [
       "<Figure size 864x432 with 2 Axes>"
      ]
     },
     "metadata": {},
     "output_type": "display_data"
    }
   ],
   "source": [
    "_, axes = plt.subplots(1, 2, figsize=(12, 6))\n",
    "sns.barplot(data=data, x='SibSp', y='Survived', ax=axes[0])\n",
    "sns.barplot(data=data, x='Parch', y='Survived', ax=axes[1])"
   ]
  },
  {
   "cell_type": "markdown",
   "id": "9b3e7ac6",
   "metadata": {},
   "source": [
    "Passengers with **Parch** = 1 have more chances to survive (probably it was a combination mother+children).  \n",
    "Seems that **SibSp** number doesn't contribute a lot to survival.\n",
    "But lets combine both variables into **FamilySize** and analyze again:"
   ]
  },
  {
   "cell_type": "code",
   "execution_count": 53,
   "id": "b18092c4",
   "metadata": {},
   "outputs": [],
   "source": [
    "data['FamilySize'] = data['SibSp'] + data['Parch']"
   ]
  },
  {
   "cell_type": "code",
   "execution_count": 54,
   "id": "6dcb96c7",
   "metadata": {},
   "outputs": [
    {
     "data": {
      "text/plain": [
       "<AxesSubplot:xlabel='FamilySize', ylabel='Survived'>"
      ]
     },
     "execution_count": 54,
     "metadata": {},
     "output_type": "execute_result"
    },
    {
     "data": {
      "image/png": "[encoded data removed]",
      "text/plain": [
       "<Figure size 1080x432 with 2 Axes>"
      ]
     },
     "metadata": {},
     "output_type": "display_data"
    }
   ],
   "source": [
    "_, axes = plt.subplots(1, 2, figsize=(15,6))\n",
    "sns.countplot(data=data, x='FamilySize', hue='Survived', ax=axes[0])\n",
    "sns.barplot(data=data, x='FamilySize', y='Survived', ax=axes[1])"
   ]
  },
  {
   "cell_type": "markdown",
   "id": "3341c78b",
   "metadata": {},
   "source": [
    "Passengers with small number of family members (1-3) had sligthly bigger chance of survival than lonely ones, but this chance decreases with bigger family."
   ]
  },
  {
   "cell_type": "markdown",
   "id": "95e9b659",
   "metadata": {},
   "source": [
    "**Sex:**"
   ]
  },
  {
   "cell_type": "code",
   "execution_count": 55,
   "id": "0f1ea368",
   "metadata": {},
   "outputs": [
    {
     "data": {
      "text/plain": [
       "<AxesSubplot:xlabel='Sex', ylabel='Survived'>"
      ]
     },
     "execution_count": 55,
     "metadata": {},
     "output_type": "execute_result"
    },
    {
     "data": {
      "image/png": "[encoded data removed]",
      "text/plain": [
       "<Figure size 1080x432 with 2 Axes>"
      ]
     },
     "metadata": {},
     "output_type": "display_data"
    }
   ],
   "source": [
    "_, axes = plt.subplots(1, 2, figsize=(15,6))\n",
    "sns.countplot(data=data, x='Sex', hue='Survived', ax=axes[0])\n",
    "sns.barplot(data=data, x='Sex', y='Survived', ax=axes[1])"
   ]
  },
  {
   "cell_type": "markdown",
   "id": "f31d4372",
   "metadata": {},
   "source": [
    "**Sex** is a very strong predictor of survival (female had a bigger chance)."
   ]
  },
  {
   "cell_type": "markdown",
   "id": "b1d7b919",
   "metadata": {},
   "source": [
    "**Pclass:**"
   ]
  },
  {
   "cell_type": "code",
   "execution_count": 56,
   "id": "a9d1b5de",
   "metadata": {},
   "outputs": [
    {
     "data": {
      "text/plain": [
       "<AxesSubplot:xlabel='Pclass', ylabel='Survived'>"
      ]
     },
     "execution_count": 56,
     "metadata": {},
     "output_type": "execute_result"
    },
    {
     "data": {
      "image/png": "[encoded data removed]",
      "text/plain": [
       "<Figure size 1080x432 with 2 Axes>"
      ]
     },
     "metadata": {},
     "output_type": "display_data"
    }
   ],
   "source": [
    "_, axes = plt.subplots(1, 2, figsize=(15,6))\n",
    "sns.countplot(data=data, x='Pclass', hue='Survived', ax=axes[0])\n",
    "sns.barplot(data=data, x='Pclass', y='Survived', ax=axes[1])"
   ]
  },
  {
   "cell_type": "markdown",
   "id": "1b9b0cfb",
   "metadata": {},
   "source": [
    "**Pclass** is good predictor of survival.  \n",
    "1- and 2-class passengers had advantage."
   ]
  },
  {
   "cell_type": "markdown",
   "id": "37807714",
   "metadata": {},
   "source": [
    "**Embarked:**"
   ]
  },
  {
   "cell_type": "code",
   "execution_count": 57,
   "id": "d0c43ed6",
   "metadata": {},
   "outputs": [
    {
     "data": {
      "text/plain": [
       "<AxesSubplot:xlabel='Embarked', ylabel='Survived'>"
      ]
     },
     "execution_count": 57,
     "metadata": {},
     "output_type": "execute_result"
    },
    {
     "data": {
      "image/png": "[encoded data removed]",
      "text/plain": [
       "<Figure size 1080x432 with 2 Axes>"
      ]
     },
     "metadata": {},
     "output_type": "display_data"
    }
   ],
   "source": [
    "_, axes = plt.subplots(1, 2, figsize=(15,6))\n",
    "sns.countplot(data=data, x='Embarked', hue='Survived', ax=axes[0])\n",
    "sns.barplot(data=data, x='Embarked', y='Survived', ax=axes[1])"
   ]
  },
  {
   "cell_type": "markdown",
   "id": "c15102f3",
   "metadata": {},
   "source": [
    "**Embarked** is good predictor of survival.  \n",
    "Passengers embarked from 'C' and 'Q' ports had advantage.  \n",
    "It means **Embarked** column is important for predicting and missing values need to be filled (most frequent value - 'S' - seems reasonble)."
   ]
  },
  {
   "cell_type": "markdown",
   "id": "479a5c50",
   "metadata": {},
   "source": [
    "As we remember from previous part, most of passengers embarked from 'S' and belonged to 3-class.  \n",
    "We will explore relationship between Pclass and Embarked in next part."
   ]
  },
  {
   "cell_type": "markdown",
   "id": "8fbc7c53",
   "metadata": {},
   "source": [
    "**Cabin:**"
   ]
  },
  {
   "cell_type": "markdown",
   "id": "fa19b777",
   "metadata": {},
   "source": [
    "Lets create new binary feature **HasCabin** and assign 0 to all missing Cabin values:"
   ]
  },
  {
   "cell_type": "code",
   "execution_count": 58,
   "id": "71d37312",
   "metadata": {},
   "outputs": [],
   "source": [
    "data['HasCabin']= data['Cabin'].fillna(0)\n",
    "data['HasCabin'].where(data['HasCabin'] == 0, 1, inplace=True)"
   ]
  },
  {
   "cell_type": "code",
   "execution_count": 59,
   "id": "7f650e85",
   "metadata": {},
   "outputs": [
    {
     "data": {
      "text/plain": [
       "<AxesSubplot:xlabel='HasCabin', ylabel='Survived'>"
      ]
     },
     "execution_count": 59,
     "metadata": {},
     "output_type": "execute_result"
    },
    {
     "data": {
      "image/png": "[encoded data removed]",
      "text/plain": [
       "<Figure size 1080x432 with 2 Axes>"
      ]
     },
     "metadata": {},
     "output_type": "display_data"
    }
   ],
   "source": [
    "_, axes = plt.subplots(1, 2, figsize=(15,6))\n",
    "sns.countplot(data=data, x='HasCabin', hue='Survived', ax=axes[0])\n",
    "sns.barplot(data=data, x='HasCabin', y='Survived', ax=axes[1])"
   ]
  },
  {
   "cell_type": "markdown",
   "id": "76f2673a",
   "metadata": {},
   "source": [
    "Having a Cabin is a good predictor for survival.  \n",
    "But is it really acceptable to assume that the missing values of the cabin imply its absence?  We will try to prove this assumption by looking for relationship between Cabin and Fare, Cabin and Pclass in next section."
   ]
  },
  {
   "cell_type": "markdown",
   "id": "3be06d6a",
   "metadata": {},
   "source": [
    "**Ticket**:"
   ]
  },
  {
   "cell_type": "markdown",
   "id": "e88334e9",
   "metadata": {},
   "source": [
    "Could passengers with missing ticket value have smth in common(for example, they belong to the ship crew)? If yes, did they have a greater/lesser chance of survival?  \n",
    "To check this idea we will create new binary feature **HasTicket** and assign 0 to all missing Ticket values:"
   ]
  },
  {
   "cell_type": "code",
   "execution_count": 60,
   "id": "2c902f69",
   "metadata": {},
   "outputs": [],
   "source": [
    "data['HasTicket']= data['Ticket'].fillna(0)\n",
    "data['HasTicket'].where(data['HasTicket'] == 0, 1, inplace=True)"
   ]
  },
  {
   "cell_type": "code",
   "execution_count": 61,
   "id": "55d94209",
   "metadata": {},
   "outputs": [
    {
     "data": {
      "text/plain": [
       "<AxesSubplot:xlabel='HasTicket', ylabel='Survived'>"
      ]
     },
     "execution_count": 61,
     "metadata": {},
     "output_type": "execute_result"
    },
    {
     "data": {
      "image/png": "[encoded data removed]",
      "text/plain": [
       "<Figure size 1080x432 with 2 Axes>"
      ]
     },
     "metadata": {},
     "output_type": "display_data"
    }
   ],
   "source": [
    "_, axes = plt.subplots(1, 2, figsize=(15,6))\n",
    "sns.countplot(data=data, x='HasTicket', hue='Survived', ax=axes[0])\n",
    "sns.barplot(data=data, x='HasTicket', y='Survived', ax=axes[1])"
   ]
  },
  {
   "cell_type": "markdown",
   "id": "c8417640",
   "metadata": {},
   "source": [
    "Seems that passsengers with missing ticket value indeed had slightly bigger chances to survive.  \n",
    "We can simply use this binary values in future instead of original Ticket values, because they are just strings and take a lot of unique values, which don't say anything useful."
   ]
  },
  {
   "cell_type": "markdown",
   "id": "22e8ac07",
   "metadata": {},
   "source": [
    "## 3. Assessing interactions between variables"
   ]
  },
  {
   "cell_type": "markdown",
   "id": "459d4bd2",
   "metadata": {},
   "source": [
    "To conviniently represent interactions between variables using correlation matrix lets map Sex, Embarked, HasCabin and HasTicket to numerical values:"
   ]
  },
  {
   "cell_type": "code",
   "execution_count": 62,
   "id": "72f012ec",
   "metadata": {},
   "outputs": [],
   "source": [
    "data['Sex_mapped'] = data['Sex'].map({\n",
    "    'male': 0,\n",
    "    'female': 1\n",
    "})\n",
    "data['Embarked_mapped'] = data['Embarked'].map({\n",
    "    'S': 0,\n",
    "    'C': 1,\n",
    "    'Q': 2\n",
    "})\n",
    "\n",
    "data['HasCabin'] = data['HasCabin'].astype(int)\n",
    "data['HasTicket'] = data['HasTicket'].astype(int)"
   ]
  },
  {
   "cell_type": "code",
   "execution_count": 63,
   "id": "afa6135c",
   "metadata": {},
   "outputs": [
    {
     "data": {
      "text/plain": [
       "<AxesSubplot:>"
      ]
     },
     "execution_count": 63,
     "metadata": {},
     "output_type": "execute_result"
    },
    {
     "data": {
      "image/png": "[encoded data removed]",
      "text/plain": [
       "<Figure size 864x576 with 2 Axes>"
      ]
     },
     "metadata": {},
     "output_type": "display_data"
    }
   ],
   "source": [
    "plt.figure(figsize=(12,8))\n",
    "# we will drop 'SibSp' and 'Parch' columns because we created new column 'FamilySize'\n",
    "sns.heatmap(data.drop(['SibSp', 'Parch'], axis=1).corr(), annot=True)"
   ]
  },
  {
   "cell_type": "markdown",
   "id": "9b8d2bb9",
   "metadata": {},
   "source": [
    "As we saw in previous part, **Survived** has very slight correlation (almost zero) with FamilySize and MissingTicket values.  \n",
    "It is slightly correlated with Age.  \n",
    "Correlated more with Fare, HasCabin, Pclass and Embarked.  \n",
    "The strongest correllation is with Sex."
   ]
  },
  {
   "cell_type": "markdown",
   "id": "845a65f8",
   "metadata": {},
   "source": [
    "More interestingly, we see, that there is a strong correlation between **Pclass and HasCabin**, **Pclass and Fare**, **Pclass and Embarked**. Lets have a closer look: "
   ]
  },
  {
   "cell_type": "code",
   "execution_count": 64,
   "id": "980b923f",
   "metadata": {},
   "outputs": [
    {
     "data": {
      "text/plain": [
       "<AxesSubplot:xlabel='Pclass', ylabel='count'>"
      ]
     },
     "execution_count": 64,
     "metadata": {},
     "output_type": "execute_result"
    },
    {
     "data": {
      "image/png": "[encoded data removed]",
      "text/plain": [
       "<Figure size 864x432 with 1 Axes>"
      ]
     },
     "metadata": {},
     "output_type": "display_data"
    }
   ],
   "source": [
    "plt.figure(figsize=(12,6))\n",
    "sns.countplot(data=data, x='Pclass', hue='HasCabin')"
   ]
  },
  {
   "cell_type": "markdown",
   "id": "d2a594c8",
   "metadata": {},
   "source": [
    "Most of 1-class passengers have cabins.  \n",
    "A very small number of 3-class passengers have cabins.  \n",
    "For 2-class passengers the ratio of presence of cabins to the absence is small, but still more than for 3-class passengers."
   ]
  },
  {
   "cell_type": "code",
   "execution_count": 65,
   "id": "58895836",
   "metadata": {},
   "outputs": [
    {
     "data": {
      "text/plain": [
       "<seaborn.axisgrid.FacetGrid at 0x1a48efdfc70>"
      ]
     },
     "execution_count": 65,
     "metadata": {},
     "output_type": "execute_result"
    },
    {
     "data": {
      "image/png": "[encoded data removed]",
      "text/plain": [
       "<Figure size 720x360 with 2 Axes>"
      ]
     },
     "metadata": {},
     "output_type": "display_data"
    }
   ],
   "source": [
    "sns.catplot(data=data, x='Pclass', y='Survived', col='HasCabin', kind='bar')"
   ]
  },
  {
   "cell_type": "markdown",
   "id": "03e38b7b",
   "metadata": {},
   "source": [
    "The presence of a cabin indeed gives an advantage in survival for all classes."
   ]
  },
  {
   "cell_type": "code",
   "execution_count": 66,
   "id": "775c4d86",
   "metadata": {},
   "outputs": [
    {
     "data": {
      "text/plain": [
       "<seaborn.axisgrid.FacetGrid at 0x1a48f2d2eb0>"
      ]
     },
     "execution_count": 66,
     "metadata": {},
     "output_type": "execute_result"
    },
    {
     "data": {
      "image/png": "[encoded data removed]",
      "text/plain": [
       "<Figure size 767x360 with 2 Axes>"
      ]
     },
     "metadata": {},
     "output_type": "display_data"
    }
   ],
   "source": [
    "sns.catplot(data=data, x='Pclass', hue='Survived', col='HasCabin', kind='count')"
   ]
  },
  {
   "cell_type": "markdown",
   "id": "07c619e3",
   "metadata": {},
   "source": [
    "This advantage is strongest for the 1-class, because they make up the majority among passengers that have cabins."
   ]
  },
  {
   "cell_type": "code",
   "execution_count": 67,
   "id": "b038fef3",
   "metadata": {},
   "outputs": [
    {
     "data": {
      "text/plain": [
       "<AxesSubplot:xlabel='Embarked', ylabel='count'>"
      ]
     },
     "execution_count": 67,
     "metadata": {},
     "output_type": "execute_result"
    },
    {
     "data": {
      "image/png": "[encoded data removed]",
      "text/plain": [
       "<Figure size 864x432 with 1 Axes>"
      ]
     },
     "metadata": {},
     "output_type": "display_data"
    }
   ],
   "source": [
    "plt.figure(figsize=(12,6))\n",
    "sns.countplot(data=data, x='Embarked', hue='Pclass')"
   ]
  },
  {
   "cell_type": "markdown",
   "id": "5a3594d0",
   "metadata": {},
   "source": [
    "Most of the passengers from port S are  3-class passengers.  \n",
    "Most of the passengers from ports C and Q are 1- and 2-class passengers.\n",
    "Thus, port of embarkation strongly associated with class."
   ]
  },
  {
   "cell_type": "code",
   "execution_count": 68,
   "id": "f55537ac",
   "metadata": {},
   "outputs": [
    {
     "data": {
      "text/plain": [
       "<seaborn.axisgrid.FacetGrid at 0x1a48f398c40>"
      ]
     },
     "execution_count": 68,
     "metadata": {},
     "output_type": "execute_result"
    },
    {
     "data": {
      "image/png": "[encoded data removed]",
      "text/plain": [
       "<Figure size 1080x360 with 3 Axes>"
      ]
     },
     "metadata": {},
     "output_type": "display_data"
    }
   ],
   "source": [
    "sns.catplot(data=data, x='Embarked', y='Survived', col='Pclass', kind='bar')"
   ]
  },
  {
   "cell_type": "markdown",
   "id": "28869779",
   "metadata": {},
   "source": [
    "Ports C and Q give a survival advantage for passengers of all three classes.\n",
    "But the survival rate for 3-class is generally lower than for 1- and 2-class, regardless of the port.  \n",
    "\n",
    "The chance of survival is higher for 1- and 2-class from C and Q ports."
   ]
  },
  {
   "cell_type": "code",
   "execution_count": 69,
   "id": "e00b7bdb",
   "metadata": {},
   "outputs": [],
   "source": [
    "#sns.catplot(data=data, x ='Embarked', hue ='Survived', col ='Pclass',  kind ='count')"
   ]
  },
  {
   "cell_type": "code",
   "execution_count": 70,
   "id": "3495c292",
   "metadata": {
    "scrolled": false
   },
   "outputs": [
    {
     "data": {
      "text/plain": [
       "<AxesSubplot:xlabel='HasCabin', ylabel='Fare'>"
      ]
     },
     "execution_count": 70,
     "metadata": {},
     "output_type": "execute_result"
    },
    {
     "data": {
      "image/png": "[encoded data removed]",
      "text/plain": [
       "<Figure size 864x432 with 2 Axes>"
      ]
     },
     "metadata": {},
     "output_type": "display_data"
    }
   ],
   "source": [
    "_, axes = plt.subplots(1, 2, figsize=(12,6))\n",
    "sns.barplot(data=data, x='Pclass', y='Fare', ax=axes[0])\n",
    "sns.barplot(data=data, x='HasCabin', y='Fare', ax=axes[1])"
   ]
  },
  {
   "cell_type": "markdown",
   "id": "225d28cc",
   "metadata": {},
   "source": [
    "Fare tends to be higher for higher classes.  \n",
    "Fare tends to be higher for places without missing Cabin values.\n",
    "\n",
    "All mentioned conclusions mean that our theory about missing cabin values can be applied (missing values actually means no cabin, which can be explained with cheaper fare and lower class). Thus, we can simply use this binary values in future instead of original Cabin values, because they are just strings and take a lot of unique values, which don't say anything useful. "
   ]
  },
  {
   "cell_type": "markdown",
   "id": "4714ead7",
   "metadata": {},
   "source": [
    "Additionally we can examine distribution of sex and age by classes:"
   ]
  },
  {
   "cell_type": "code",
   "execution_count": 71,
   "id": "c471fd63",
   "metadata": {},
   "outputs": [
    {
     "data": {
      "text/plain": [
       "<AxesSubplot:xlabel='Pclass', ylabel='count'>"
      ]
     },
     "execution_count": 71,
     "metadata": {},
     "output_type": "execute_result"
    },
    {
     "data": {
      "image/png": "[encoded data removed]",
      "text/plain": [
       "<Figure size 864x432 with 1 Axes>"
      ]
     },
     "metadata": {},
     "output_type": "display_data"
    }
   ],
   "source": [
    "plt.figure(figsize=(12,6))\n",
    "sns.countplot(data=data, x='Pclass', hue='Sex')"
   ]
  },
  {
   "cell_type": "markdown",
   "id": "7bf6092b",
   "metadata": {},
   "source": [
    "More female than male belong to the 1- and 2-class, which agrees with our previous conclusions (more female survived than male and more 1- and 2-class passengers than 3-class)"
   ]
  },
  {
   "cell_type": "code",
   "execution_count": 72,
   "id": "9df19e69",
   "metadata": {},
   "outputs": [
    {
     "data": {
      "text/plain": [
       "<AxesSubplot:xlabel='Sex', ylabel='Age'>"
      ]
     },
     "execution_count": 72,
     "metadata": {},
     "output_type": "execute_result"
    },
    {
     "data": {
      "image/png": "[encoded data removed]",
      "text/plain": [
       "<Figure size 720x432 with 1 Axes>"
      ]
     },
     "metadata": {},
     "output_type": "display_data"
    }
   ],
   "source": [
    "plt.figure(figsize=(10,6))\n",
    "sns.violinplot(data=data, x='Sex', y='Age', hue='Survived', split=True)"
   ]
  },
  {
   "cell_type": "markdown",
   "id": "3f886963",
   "metadata": {},
   "source": [
    "The survival rate is:  \n",
    "better for children than for teenagers,  \n",
    "lower for teenagers, but gradually increase by the age of 20-25,  \n",
    "higher for female as the age increases."
   ]
  },
  {
   "cell_type": "markdown",
   "id": "034945c8",
   "metadata": {},
   "source": [
    "# Summary"
   ]
  },
  {
   "cell_type": "markdown",
   "id": "47b9b236",
   "metadata": {},
   "source": [
    "- **Sex** is a very strong predictor of survival (female had more chances, while there were more man on the ship),\n",
    "- **Pclass** is good predictor of survival (1- and 2-class passengers had more chances, while there were more 3-class passengers on the ship). More female than male belong to the 1- and 2-class,\n",
    "- **Embarked** is good predictor of survival (passengers embarked from 'C' and 'Q' ports had more chances, while there were more passangers embarked from 'S' port). Missing values can be filled with most frequent value 'S'),  \n",
    "- **Fare** is good predictor of survival (passengers with bigger Fare had more chances). 17.161% of column values are outliers that had the biggest chance of survival. Missing values can be filled with median value,\n",
    "- **Cabin** column itself can be dropped because its values are just strings and take a lot of unique values, which don't say anything useful. Instead we can create new binary feature **HasCabin** and assign 0 to all missing Cabin values (because missing values actually means no cabin, which can be explained with cheaper fare and lower class). **HasCabin** is good predictor of survival (passengers with cabin had more chances),\n",
    "- chances of survival increase with **Age**. Children under the age of 15 had a better chance of survival than the group aged 15-29 years (although the number of passengers belonging to the second group is more than twice as large). After 29, the chances of survival increase with age. The smallest group of 72-87 has quite high chance of survival. Missing values can be be filled using nearest neighbor imputation\n",
    "- **SibSp** and **Parch** didn't contribute a lot to survival chances. Most of passengers traveled without siblings and spouses and most of passengers traveled without parents and children. But passengers with Parch = 1 had more chances of survival (probably it was a combination mother+children). Combining both variables into FamilySize gave us following information: passengers with small number of family members (1-3) had sligthly bigger chance of survival than lonely ones, but this chance decreases with bigger family,\n",
    "- **Ticket** column itself can be dropped because its values are just strings and take a lot of unique values, which don't say anything useful. Instead we can create new binary feature **HasTicket** and assign 0 to all missing Ticket values. Passengers with missing ticket value had slightly bigger chances of survival (maybe they belonged to ship crew and had some advantages),\n",
    "- **Name** column itself can be dropped because its values are just strings and take a lot of unique values, which don't say anything useful,\n",
    "\n",
    "- there is a strong correlation between **Pclass and HasCabin** (most of 1-class passengers had cabins, very small number of 3-class passengers had cabins, for 2-class passengers the ratio of presence of cabins to the absence is small, but still more than for 3-class passengers), **Pclass and Fare** (fare tends to be higher for higher classes), **Pclass and Embarked** (most of the passengers embarked from port 'S' are 3-class passengers, most of the passengers embarked from ports 'C' and 'Q' are 1- and 2-class passengers). Thus, The chance of survival is higher for 1- and 2-class passengers embarked from 'C' and 'Q' ports."
   ]
  }
 ],
 "metadata": {
  "kernelspec": {
   "display_name": "Python 3 (ipykernel)",
   "language": "python",
   "name": "python3"
  },
  "language_info": {
   "codemirror_mode": {
    "name": "ipython",
    "version": 3
   },
   "file_extension": ".py",
   "mimetype": "text/x-python",
   "name": "python",
   "nbconvert_exporter": "python",
   "pygments_lexer": "ipython3",
   "version": "3.9.7"
  },
  "toc": {
   "base_numbering": 1,
   "nav_menu": {},
   "number_sections": true,
   "sideBar": true,
   "skip_h1_title": false,
   "title_cell": "Table of Contents",
   "title_sidebar": "Contents",
   "toc_cell": false,
   "toc_position": {},
   "toc_section_display": true,
   "toc_window_display": false
  }
 },
 "nbformat": 4,
 "nbformat_minor": 5
}
