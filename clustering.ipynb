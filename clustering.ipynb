{
 "cells": [
  {
   "cell_type": "markdown",
   "metadata": {},
   "source": [
    "Each task that is proposed to be completed as part of the homework has a declared \"price\" in points. The maximum possible amount is 10 points, and together with the bonus assignment - 12 points. It is not necessary to complete all the tasks, only a part can be done. Most of the points expect you to write working Python code; sometimes you will need to write comments - for example, to compare several approaches to solve the same problem. Also you can add more cells for your convenience if you need."
   ]
  },
  {
   "cell_type": "markdown",
   "metadata": {},
   "source": [
    "This homework focuses on clustering. We will work with images of handwritten digits, learn how to cluster them using two different methods (hierarchical clustering and the 𝐾-means algorithm), evaluate the quality of the partition and choose the optimal number of clusters, as well as visualize intermediate results."
   ]
  },
  {
   "cell_type": "code",
   "execution_count": 157,
   "metadata": {},
   "outputs": [],
   "source": [
    "import numpy as np\n",
    "import pandas as pd\n",
    "import matplotlib.pyplot as plt\n",
    "from sklearn.datasets import load_digits\n",
    "from sklearn.cluster import AgglomerativeClustering, KMeans"
   ]
  },
  {
   "cell_type": "markdown",
   "metadata": {},
   "source": [
    "## 1. Loading data\n",
    "The data we will be working with is available in the scikit-learn library (`sklearn` module) in the `datasets` submodule via the `load_digits` function. The data contains 1,797 observations, each of which is 8×8 pixel image of a handwritten digit from 0 to 9. This is about the same amount of each digit (about 180).\n",
    "\n",
    "For convenience, every image expands to a 64 (8×8) row, so entire numpy array is 1797×64. The color intensity in each pixel is encoded with an integer from 0 to 16.\n",
    "\n",
    "In addition to images, their labels are also known. In this task, we will assume that the labels (as well as their amount) are unknown and try to group the data in such a way that the resulting clusters 'better match' the original ones. Possible options for determining the 'better match' are presented later."
   ]
  },
  {
   "cell_type": "markdown",
   "metadata": {},
   "source": [
    "**(0.25 points)** Load the images into `X` variable, and their labels into `y` variable."
   ]
  },
  {
   "cell_type": "code",
   "execution_count": 31,
   "metadata": {},
   "outputs": [],
   "source": [
    "X, y = load_digits(return_X_y=True)"
   ]
  },
  {
   "cell_type": "code",
   "execution_count": 11,
   "metadata": {},
   "outputs": [],
   "source": [
    "assert X.shape == (1797, 64)\n",
    "assert y.shape == (1797,)"
   ]
  },
  {
   "cell_type": "markdown",
   "metadata": {},
   "source": [
    "**(0.5 points)** Visualize the first 10 images.\n",
    "\n",
    "- Arrange images on a grid rather than in a row. You may need the `subplot` and `imshow` functions from the `pyplot` module in the `matplotlib` library.\n",
    "- You will also need to reshape the images to 8×8.\n",
    "- Remove ticks and labels from both axes. The `xticks` and `yticks` functions or the `tick_params` function from `pyplot` can help you with this.\n",
    "- Make the output good sized with the `figure` function from `pyplot`."
   ]
  },
  {
   "cell_type": "code",
   "execution_count": 22,
   "metadata": {},
   "outputs": [
    {
     "data": {
      "image/png": "[encoded data removed]",
      "text/plain": [
       "<Figure size 1152x432 with 10 Axes>"
      ]
     },
     "metadata": {},
     "output_type": "display_data"
    }
   ],
   "source": [
    "plt.figure(figsize=(16,6))\n",
    "for i in range(10):\n",
    "    plt.subplot(2, 5, i + 1)\n",
    "    plt.imshow(X[i].reshape((8,8)), cmap='gray')\n",
    "    plt.xticks([])\n",
    "    plt.yticks([])"
   ]
  },
  {
   "cell_type": "markdown",
   "metadata": {},
   "source": [
    "## 2. Clustering and quality evaluation"
   ]
  },
  {
   "cell_type": "markdown",
   "metadata": {},
   "source": [
    "**(2 points)** Implement the the KMeans algorithm. Use objective function $L = \\sum_{i=1}^{n}|x_{i}-Z_{A(x_{i})}|^{2}$, where $Z_{A(x_{i})}$ is the center of the cluster corresponding to $x_{i}$ object."
   ]
  },
  {
   "cell_type": "code",
   "execution_count": 23,
   "metadata": {},
   "outputs": [],
   "source": [
    "from sklearn.exceptions import NotFittedError\n",
    "from numpy.random import RandomState"
   ]
  },
  {
   "cell_type": "code",
   "execution_count": 151,
   "metadata": {},
   "outputs": [],
   "source": [
    "class CustomKMeans:\n",
    "    def __init__(self, n_clusters=2, max_iter=300, n_init=10, random_state=42):\n",
    "        '''K-Means clustering.\n",
    "        \n",
    "        Args:\n",
    "            n_clusters: int, default=2\n",
    "                The number of clusters to be formed is also \n",
    "                the number of centroids to generate. \n",
    "            max_iter: int, default=300\n",
    "                Maximum number of iterations of the k-means algorithm for a\n",
    "                single run.\n",
    "            n_init: int, default=10\n",
    "                Number of time the k-means algorithm will be run with different\n",
    "                centroid seeds. The final results will be the best output of\n",
    "                n_init consecutive runs in terms of objective function.\n",
    "            random_state: int, default=42\n",
    "                Random state.\n",
    "        '''\n",
    "        self.n_clusters = n_clusters\n",
    "        self.n_init = n_init\n",
    "        self.max_iter = max_iter\n",
    "        self.random_state = RandomState(seed=random_state)\n",
    "        \n",
    "    def calculate_distances_to_centroids(self, X, cluster_centers):\n",
    "        \"\"\"\n",
    "        Returns (n, c) matrix where the element at position (i, j) \n",
    "        is the distance from i-th object to j-th centroid.\"\"\"\n",
    "        # <your code>\n",
    "        return np.array([[np.sum((x - c) ** 2) for c in cluster_centers] for x in X])\n",
    "    \n",
    "    def update_centroids(self, X, nearest_clusters):\n",
    "        \"\"\"\n",
    "        Returns numpy array of shape (n_clusters, n_features) - \n",
    "        new clusters that are found by averaging objects belonging \n",
    "        to the corresponding cluster.\"\"\"\n",
    "        # <your code>\n",
    "        updated_cluster_centers = np.zeros((self.n_clusters, X.shape[1]))\n",
    "        for i in range(self.n_clusters):\n",
    "            updated_cluster_centers[i] = X[nearest_clusters == i].mean(axis=0)\n",
    "        return np.nan_to_num(updated_cluster_centers, copy=False, nan=np.inf)\n",
    "            \n",
    "    def fit(self, X):\n",
    "        \"\"\"Fit the model.\n",
    "        \n",
    "        Args:\n",
    "            X: numpy array of shape (n_samples, n_features)\n",
    "        \"\"\"\n",
    "        assert X.shape[0] >= self.n_clusters\n",
    "        # <your code>\n",
    "        best_objective = np.inf\n",
    "\n",
    "        for i in range(self.n_init):\n",
    "            objective_func_history = []\n",
    "            # initialization (randomly assign a number from 0 to K-1 to each of the observations)\n",
    "            labels = self.random_state.randint(self.n_clusters, size=X.shape[0])\n",
    "            for j in range(self.max_iter):\n",
    "                cluster_centers = self.update_centroids(X, labels)\n",
    "                distances_to_centroids = self.calculate_distances_to_centroids(X, cluster_centers)\n",
    "                labels = distances_to_centroids.argmin(axis=1)\n",
    "\n",
    "                objective_func_history.append(np.array([distances_to_centroids[i, labels[i]] for i in range(X.shape[0])]).sum())\n",
    "                \n",
    "            objective = np.array([distances_to_centroids[i, labels[i]] for i in range(X.shape[0])]).sum()\n",
    "            if objective < best_objective:\n",
    "                best_objective = objective\n",
    "                self.labels_ = labels\n",
    "                self.cluster_centers_ = cluster_centers\n",
    "                self.objective_history = objective_func_history\n",
    "        return self\n",
    "            \n",
    "    \n",
    "    def predict(self, X):\n",
    "        \"\"\"Predict classes.\n",
    "        \n",
    "        Args:\n",
    "            X: numpy array of shape (n_samples, n_features)\n",
    "        Returns:\n",
    "            y: numpy array of shape (n_samples,)\n",
    "                Vector containing predicted cluster labels.\n",
    "        \"\"\"\n",
    "        if hasattr(self, 'cluster_centers_'):\n",
    "            # <your code>\n",
    "            distances_to_centroids = self.calculate_distances_to_centroids(X, self.cluster_centers_)\n",
    "            return distances_to_centroids.argmin(axis=1)\n",
    "        else: \n",
    "            raise NotFittedError(\"CustomKMeans instance is not fitted yet\")"
   ]
  },
  {
   "cell_type": "markdown",
   "metadata": {},
   "source": [
    "**(1 points)** Get the `X` array partition into 10 clusters. Visualize the centers of clusters.\n",
    "- We will assume that the center of the cluster is average value of all observations belonging to the cluster.\n",
    "- The cluster centers should have the same shape as our observations (64). So you have to average the points across the rows."
   ]
  },
  {
   "cell_type": "code",
   "execution_count": 152,
   "metadata": {},
   "outputs": [],
   "source": [
    "custom_kmeans = CustomKMeans(n_clusters=10)\n",
    "custom_kmeans.fit(X);"
   ]
  },
  {
   "cell_type": "code",
   "execution_count": 153,
   "metadata": {},
   "outputs": [],
   "source": [
    "custom_kmeans_labels = custom_kmeans.labels_\n",
    "assert custom_kmeans_labels.shape == (1797,)"
   ]
  },
  {
   "cell_type": "code",
   "execution_count": 154,
   "metadata": {},
   "outputs": [
    {
     "data": {
      "image/png": "[encoded data removed]",
      "text/plain": [
       "<Figure size 1152x432 with 10 Axes>"
      ]
     },
     "metadata": {},
     "output_type": "display_data"
    }
   ],
   "source": [
    "plt.figure(figsize=(16,6))\n",
    "for i in range(custom_kmeans.cluster_centers_.shape[0]):\n",
    "    plt.subplot(2, 5, i + 1)\n",
    "    plt.imshow(custom_kmeans.cluster_centers_[i].reshape((8,8)), cmap='gray')\n",
    "    plt.xticks([])\n",
    "    plt.yticks([])"
   ]
  },
  {
   "cell_type": "markdown",
   "metadata": {},
   "source": [
    "Average values of all observations belonging to the cluster indeed look like digits, KMeans did a pretty good job."
   ]
  },
  {
   "cell_type": "markdown",
   "metadata": {},
   "source": [
    "**(0.5 points)** Experiment with `max_iter` and `n_init` parameters. Look at the range of values of the objective function, it's best values, at what parameters and how often they are achieved."
   ]
  },
  {
   "cell_type": "code",
   "execution_count": 155,
   "metadata": {},
   "outputs": [],
   "source": [
    "def plot_loss(loss_history, parameters, parameter_name, title):\n",
    "    plt.figure(figsize=(9, 4.5))\n",
    "    for i in range(len(parameters)):\n",
    "        plt.plot(loss_history[i], label=f'{parameter_name}={parameters[i]}')\n",
    "    plt.xlabel('Iterations')\n",
    "    plt.ylabel('Loss') \n",
    "    plt.title(title)\n",
    "    plt.grid(True)\n",
    "    plt.legend()\n",
    "    plt.show()"
   ]
  },
  {
   "cell_type": "code",
   "execution_count": 169,
   "metadata": {},
   "outputs": [
    {
     "data": {
      "image/png": "[encoded data removed]",
      "text/plain": [
       "<Figure size 648x324 with 1 Axes>"
      ]
     },
     "metadata": {
      "needs_background": "light"
     },
     "output_type": "display_data"
    }
   ],
   "source": [
    "loss_history = []\n",
    "iterations = [1, 10, 50, 100, 300]\n",
    "for max_iter in iterations:\n",
    "    model = CustomKMeans(n_clusters=10, max_iter=max_iter)\n",
    "    model.fit(X)\n",
    "    loss_history.append(model.objective_history)\n",
    "\n",
    "plot_loss(loss_history, iterations, parameter_name='max_iter', title='KMeans objective function history as function of iterations')"
   ]
  },
  {
   "cell_type": "markdown",
   "metadata": {},
   "source": [
    "Looks like values are overlapping, let's plot them one at a time:"
   ]
  },
  {
   "cell_type": "code",
   "execution_count": 180,
   "metadata": {},
   "outputs": [
    {
     "data": {
      "image/png": "[encoded data removed]",
      "text/plain": [
       "<Figure size 648x324 with 1 Axes>"
      ]
     },
     "metadata": {
      "needs_background": "light"
     },
     "output_type": "display_data"
    },
    {
     "data": {
      "image/png": "[encoded data removed]",
      "text/plain": [
       "<Figure size 648x324 with 1 Axes>"
      ]
     },
     "metadata": {
      "needs_background": "light"
     },
     "output_type": "display_data"
    },
    {
     "data": {
      "image/png": "[encoded data removed]",
      "text/plain": [
       "<Figure size 648x324 with 1 Axes>"
      ]
     },
     "metadata": {
      "needs_background": "light"
     },
     "output_type": "display_data"
    },
    {
     "data": {
      "image/png": "[encoded data removed]",
      "text/plain": [
       "<Figure size 648x324 with 1 Axes>"
      ]
     },
     "metadata": {
      "needs_background": "light"
     },
     "output_type": "display_data"
    }
   ],
   "source": [
    "for i in range(1, len(loss_history)):\n",
    "    plt.figure(figsize=(9, 4.5))\n",
    "    plt.plot(loss_history[i], label=f'max_iter={iterations[i]}')\n",
    "    plt.xlabel('Iterations')\n",
    "    plt.ylabel('Loss')\n",
    "    plt.grid(True)\n",
    "    plt.legend()\n",
    "    plt.show()"
   ]
  },
  {
   "cell_type": "markdown",
   "metadata": {},
   "source": [
    "Let's look at the range of values of the objective function, it's best values, at what parameters and how often they are achieved:"
   ]
  },
  {
   "cell_type": "code",
   "execution_count": 194,
   "metadata": {},
   "outputs": [
    {
     "name": "stdout",
     "output_type": "stream",
     "text": [
      "max_iter=1\n",
      "range of values: [2015581.6759105953, 2015581.6759105953]\n",
      "best value: 2015581.6759105953\n",
      "number of iterations for which minimum objective value is obtained: 1\n",
      "\n",
      "max_iter=10\n",
      "range of values: [1166449.9213235574, 2054132.4757990772]\n",
      "best value: 1166449.9213235574\n",
      "number of iterations for which minimum objective value is obtained: 10\n",
      "\n",
      "max_iter=50\n",
      "range of values: [1165143.857922732, 2054132.4757990772]\n",
      "best value: 1165143.857922732\n",
      "number of iterations for which minimum objective value is obtained: 15\n",
      "\n",
      "max_iter=100\n",
      "range of values: [1165143.857922732, 2054132.4757990772]\n",
      "best value: 1165143.857922732\n",
      "number of iterations for which minimum objective value is obtained: 15\n",
      "\n",
      "max_iter=300\n",
      "range of values: [1165143.857922732, 2054132.4757990772]\n",
      "best value: 1165143.857922732\n",
      "number of iterations for which minimum objective value is obtained: 15\n",
      "\n"
     ]
    }
   ],
   "source": [
    "for i in range(len(loss_history)):\n",
    "    print(f'max_iter={iterations[i]}')\n",
    "    loss = np.array(loss_history[i])\n",
    "    print(f'range of values: [{loss.min()}, {loss.max()}]')\n",
    "    print(f'best value: {loss.min()}')\n",
    "    print(f'number of iterations for which minimum objective value is obtained: {loss.argmin() + 1}')\n",
    "    print()"
   ]
  },
  {
   "cell_type": "markdown",
   "metadata": {},
   "source": [
    "We see that algorithm converges on our dataset in 15 iterations, after 15 iterations value of our objective function doesn't decrease. Minimum obtained value is 1165143.857922732"
   ]
  },
  {
   "cell_type": "markdown",
   "metadata": {},
   "source": [
    "Now let's experimnet with n_init parameter:"
   ]
  },
  {
   "cell_type": "code",
   "execution_count": 196,
   "metadata": {},
   "outputs": [
    {
     "data": {
      "image/png": "[encoded data removed]",
      "text/plain": [
       "<Figure size 648x324 with 1 Axes>"
      ]
     },
     "metadata": {
      "needs_background": "light"
     },
     "output_type": "display_data"
    }
   ],
   "source": [
    "loss_history = []\n",
    "n_init = [1, 5, 10, 20, 100]\n",
    "for n in n_init:\n",
    "    model = CustomKMeans(n_clusters=10, n_init=n, max_iter=15)\n",
    "    model.fit(X)\n",
    "    loss_history.append(model.objective_history)\n",
    "\n",
    "plot_loss(loss_history, iterations, parameter_name='n_init', title='KMeans objective function history as function of n_init')"
   ]
  },
  {
   "cell_type": "code",
   "execution_count": 198,
   "metadata": {},
   "outputs": [
    {
     "name": "stdout",
     "output_type": "stream",
     "text": [
      "n_init=1\n",
      "range of values: [1187956.7567498419, 2031537.5866992753]\n",
      "best value: 1187956.7567498419\n",
      "\n",
      "n_init=5\n",
      "range of values: [1165592.4405371987, 2015581.6759105953]\n",
      "best value: 1165592.4405371987\n",
      "\n",
      "n_init=10\n",
      "range of values: [1165143.857922732, 2054132.4757990772]\n",
      "best value: 1165143.857922732\n",
      "\n",
      "n_init=20\n",
      "range of values: [1165143.857922732, 2054132.4757990772]\n",
      "best value: 1165143.857922732\n",
      "\n",
      "n_init=100\n",
      "range of values: [1165143.857922732, 2054132.4757990772]\n",
      "best value: 1165143.857922732\n",
      "\n"
     ]
    }
   ],
   "source": [
    "for i in range(len(loss_history)):\n",
    "    print(f'n_init={n_init[i]}')\n",
    "    loss = np.array(loss_history[i])\n",
    "    print(f'range of values: [{loss.min()}, {loss.max()}]')\n",
    "    print(f'best value: {loss.min()}')\n",
    "    print()"
   ]
  },
  {
   "cell_type": "markdown",
   "metadata": {},
   "source": [
    "Now we will use two popular algorithms: hierarchical clustering and $K$-means clustering. These and other algorithms are available in the `scikit-learn` module in the `cluster` submodule. Hierarchical clustering is called `AgglomerativeClustering`, and the $K$-means method is called `KMeans`.\n",
    "\n",
    "**(0.5 points)** Use each of the two methods: hierarchical clustering and KMeans. Get the `X` array partition into 10 clusters.\n",
    "\n",
    "- Note that `AgglomerativeClustering` does not have a `predict` method, so you can either use the `fit_predict` method or use the `fit` method and then look at the `labels_` attribute of the class instance.\n",
    "- Kmeans performs multiple runs (default 10) with random centers and then returns the best partition in terms of average distance within the clusters. You can increase the number of runs to improve the quality of predictions in the `i_init` parameter."
   ]
  },
  {
   "cell_type": "code",
   "execution_count": 163,
   "metadata": {},
   "outputs": [
    {
     "data": {
      "text/plain": [
       "KMeans(n_clusters=10)"
      ]
     },
     "execution_count": 163,
     "metadata": {},
     "output_type": "execute_result"
    }
   ],
   "source": [
    "m = KMeans(n_clusters=10)\n",
    "m.fit(X)"
   ]
  },
  {
   "cell_type": "code",
   "execution_count": 159,
   "metadata": {},
   "outputs": [],
   "source": [
    "hierarchical_labels = AgglomerativeClustering(n_clusters=10).fit(X).labels_\n",
    "kmeans_labels = KMeans(n_clusters=10).fit(X).labels_"
   ]
  },
  {
   "cell_type": "code",
   "execution_count": 160,
   "metadata": {},
   "outputs": [],
   "source": [
    "assert hierarchical_labels.shape == (1797,)\n",
    "assert kmeans_labels.shape == (1797,)"
   ]
  },
  {
   "cell_type": "markdown",
   "metadata": {},
   "source": [
    "**(0.5 points)** Visualize the centers of clusters obtained by both methods."
   ]
  },
  {
   "cell_type": "code",
   "execution_count": null,
   "metadata": {},
   "outputs": [],
   "source": []
  },
  {
   "cell_type": "markdown",
   "metadata": {},
   "source": [
    "In a situation where the true number of classes is unknown, we can select it by maximazing some metric.\n",
    "\n",
    "When we can set some distance function between our observations, we can consider the `silhouette` distance as a function of measuring the quality of the clustering. Let's show how it is calculated:"
   ]
  },
  {
   "cell_type": "markdown",
   "metadata": {},
   "source": [
    "Let $X$ – set of observations, $M \\subset X$ – one of the clusters obtained as a result of clustering process, $\\rho$ – some metric on $X$. Let's choose one observation $x \\in M$. Denote $a(x)$ as the average distance from $x$ to  $x'$ points from the same cluster:\n",
    "$$\n",
    "a(x) = \\frac{1}{|M| - 1} \\sum_{x' \\in M,\\, x' \\ne x} \\rho(x,\\, x')\n",
    "$$\n",
    "\n",
    "Denote $b(x)$ as minimun of average distances from $x$ to $x''$ from some other cluster $N$:\n",
    "$$\n",
    "b(x) = \\min_{N \\ne M} \\frac{1}{|N|} \\sum_{x'' \\in N} \\rho(x,\\, x'')\n",
    "$$\n",
    "\n",
    "The silhouette is difference between a(x) and b(x), normalized to $[-1, \\, 1]$ and averaged over all observations:\n",
    "$$\n",
    "\\frac{1}{|X|} \\sum_{x \\in X} \\frac{b(x) - a(x)}{\\max(a(x),\\, b(x))}\n",
    "$$\n",
    "\n",
    "The implementation of this metric in the `scikit-learn` is the `silhouette_score` function from the `metrics` submidule."
   ]
  },
  {
   "cell_type": "markdown",
   "metadata": {
    "collapsed": true
   },
   "source": [
    "**(0.75 point)** For each $K$ between 2 and 20 inclusive, partition of the array $X$ into $K$ clusters using both methods. Calculate the silhouette score and visualize it for both methods on the same plot ($K$ on the $x$ axis and silhouette score on the $y$ axis). Sign the axes and make a legend."
   ]
  },
  {
   "cell_type": "code",
   "execution_count": null,
   "metadata": {},
   "outputs": [],
   "source": []
  },
  {
   "cell_type": "markdown",
   "metadata": {},
   "source": [
    "When we know the true clustering labels, the clustering result can be compared to them using measures such as `homogeneity`, `completeness` and their harmonic mean - $V$-score. The definitions of these quantities are rather bulky and are based on the [entropy of the probability distribution](https://ru.wikipedia.org/wiki/Информационная_энтропия). Details are given in [this article](http://aclweb.org/anthology/D/D07/D07-1043.pdf). In practice, it's enough to know that `homogeneity`, `completeness` and $V$-score are in the range from 0 and 1, and the more, the better.\n",
    "\n",
    "Since we know what digit each image is (`y` array), we can compare the clustering results to it using the measures listed above."
   ]
  },
  {
   "cell_type": "markdown",
   "metadata": {},
   "source": [
    "**(0.5 points)** Repeat the previous task using $V$-measure instead of silhouette."
   ]
  },
  {
   "cell_type": "code",
   "execution_count": null,
   "metadata": {},
   "outputs": [],
   "source": []
  },
  {
   "cell_type": "markdown",
   "metadata": {},
   "source": [
    "## 3. Feature space dimensionality reduction\n",
    "\n",
    "In some cases, especially when there are a large number of features, when not all of them are informative, and some of them are correlated, it can be useful to reduce the dimension of the feature space. This mean that instead of $d$ original features, we will go to $d'\\ll d$ new ones. And if earlier our data were presented in the form of an $n×d$ matrix, then it will presented as a $n×d'$.\n",
    "\n",
    "There are two popular dimensionality reduction approaches:\n",
    "- select new features from existing features;\n",
    "- extract the new features by transforming old ones, for example, by making $d'$ different linear combinations of columns of an $n×d$ matrix.\n",
    "\n",
    "One widely used dimensionality reduction technique is the Singular Value Decomposition (SVD). This method allows you to construct any number $d'\\leq d$ of new features in such a way that they are the most informative (in some sense).\n",
    "\n",
    "The `scikit-learn` module has several implementations of singular value decomposition. We will use the `TruncatedSVD` class from the `decomposition` submodule.\n",
    "\n",
    "**Note:** The singular value decomposition of the matrix $M$ is usually written as $M=U \\Sigma V^{*}$. `TruncatedSVD`, in turn, returns only the $d'$ first columns of the matrix $U$."
   ]
  },
  {
   "cell_type": "markdown",
   "metadata": {},
   "source": [
    "**(0.75 point)** Perform a singular value decomposition of the $X$ matrix, leaving 2, 5, 10, 20 features. In each case, perform hierarchical clustering and $K$-Means clustering (take the number of clusters equal to 10). Calculate the silhouette and $V$-score and compare them to corresponding values obtained from the original data.\n",
    "\n",
    "**Note**: It is not valid to compare the silhouette calculated with different metrics. Even if we use the same metric function when calculating the distance between points in the data, after applying dimensionality reduction or other data transformations, we will (not always) get different silhouette scores. Therefore, after training the clustering algorithm, to compare the result of clustering, you need to calculate the silhouette on the original data."
   ]
  },
  {
   "cell_type": "code",
   "execution_count": null,
   "metadata": {},
   "outputs": [],
   "source": []
  },
  {
   "cell_type": "markdown",
   "metadata": {},
   "source": [
    "Another popular dimensionality reduction approach that is useful for working with images is t-distributed stochastic neighbor embeddings, abbreviated `tSNE`. Unlike singular value decomposition, this it is non-linear transformation. It's main idea is to map points from a space of dimension `d` to another space of dimension 2 or 3 in such a way that the distances between points are mostly preserved. Mathematical details can be found, for example, [here](https://en.wikipedia.org/wiki/T-distributed_stochastic_neighbor_embedding).\n",
    "\n",
    "The implementation of `tSNE` in the `scikit-learn` library is the `TSNE` class in the `manifold` submodule.\n",
    "\n",
    "**Note:** In recent years [UMAP](https://github.com/lmcinnes/umap) is often used istead of `tSNE`. It is a faster algorithm with similar properties. We don't ask you to use `UMAP` because it requires you to install another dependency, the `umap-learn` library. Those who wish can perform the following task using `UMAP`."
   ]
  },
  {
   "cell_type": "markdown",
   "metadata": {},
   "source": [
    "**(0.5 points)** Perform a tSNE-transform of the `X` matrix, leaving 2 features. Visualize the obtained data in the form of a scatter plot form: the first feature on the horizontal axis, and the second one the vertical axis. Color the points according to the digits they belong to.\n",
    "\n",
    "- The `c` parameter in the plt.scatter function is responsible for the color of the points. Pass the true labels to it."
   ]
  },
  {
   "cell_type": "code",
   "execution_count": null,
   "metadata": {},
   "outputs": [],
   "source": []
  },
  {
   "cell_type": "markdown",
   "metadata": {},
   "source": [
    "**(0.5 points)** From the data transformed using the tSNE, perform hierarchical clustering and $K$-means clustering (take the number of clusters equal to 10). Calculate the silhouette and the $V$-score and compare them to corresponding values obtained from the original data."
   ]
  },
  {
   "cell_type": "code",
   "execution_count": null,
   "metadata": {},
   "outputs": [],
   "source": []
  },
  {
   "cell_type": "markdown",
   "metadata": {},
   "source": [
    "**(0.25 points)** Choose the best partition (in terms of silhouette or $V$-score) and visualize the centers of clusters with images. Did you managed to make each digit correspond to one center of the cluster?"
   ]
  },
  {
   "cell_type": "code",
   "execution_count": null,
   "metadata": {},
   "outputs": [],
   "source": []
  },
  {
   "cell_type": "markdown",
   "metadata": {},
   "source": [
    "## 4. Results and bonus part"
   ]
  },
  {
   "cell_type": "markdown",
   "metadata": {},
   "source": [
    "Write in free form what conclusions you made after completing this assignment. Answer the following questions:\n",
    "\n",
    "**(0.5 points)** Which algorithm gives more meaningful results - hierarchical clustering or $K$- means clustering. Does it depend on the algorithm settings or on the quality evaluation method?"
   ]
  },
  {
   "cell_type": "code",
   "execution_count": null,
   "metadata": {},
   "outputs": [],
   "source": []
  },
  {
   "cell_type": "markdown",
   "metadata": {},
   "source": [
    "**(0.5 points)** Imagine the situation where after hierarchical clustering, you need to cluster new data in the same way without retraining the model. Suggest a method how you will do it and how you will measure the quality of clustering of new data."
   ]
  },
  {
   "cell_type": "code",
   "execution_count": null,
   "metadata": {},
   "outputs": [],
   "source": []
  },
  {
   "cell_type": "markdown",
   "metadata": {
    "collapsed": true
   },
   "source": [
    "**(0.5 points)** Does dimensionality reduction improve clustering results?"
   ]
  },
  {
   "cell_type": "code",
   "execution_count": null,
   "metadata": {},
   "outputs": [],
   "source": []
  },
  {
   "cell_type": "markdown",
   "metadata": {},
   "source": [
    "**(0.5 points)** How to evaluate the quality of dimensional reduction? Suggest at least 2 options."
   ]
  },
  {
   "cell_type": "code",
   "execution_count": null,
   "metadata": {},
   "outputs": [],
   "source": []
  },
  {
   "cell_type": "markdown",
   "metadata": {},
   "source": [
    "**(Bonus 2 points)** Load the [MNIST Handwritten Digits](http://yann.lecun.com/exdb/mnist) dataset. You can also do it with `scikit-learn` as explained [here](https://stackoverflow.com/a/60450028). Explore the data and try to cluster it using different approaches. Compare results of these approaches using the silhouette and the $V$-score."
   ]
  },
  {
   "cell_type": "code",
   "execution_count": null,
   "metadata": {},
   "outputs": [],
   "source": []
  }
 ],
 "metadata": {
  "kernelspec": {
   "display_name": "Python 3 (ipykernel)",
   "language": "python",
   "name": "python3"
  },
  "language_info": {
   "codemirror_mode": {
    "name": "ipython",
    "version": 3
   },
   "file_extension": ".py",
   "mimetype": "text/x-python",
   "name": "python",
   "nbconvert_exporter": "python",
   "pygments_lexer": "ipython3",
   "version": "3.9.7"
  }
 },
 "nbformat": 4,
 "nbformat_minor": 2
}
